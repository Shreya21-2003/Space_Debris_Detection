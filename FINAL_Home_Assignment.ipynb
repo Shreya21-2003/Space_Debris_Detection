{
  "nbformat": 4,
  "nbformat_minor": 0,
  "metadata": {
    "colab": {
      "provenance": [],
      "authorship_tag": "ABX9TyMTNf0nwrCkZqI3fPqP4fa4"
    },
    "kernelspec": {
      "name": "python3",
      "display_name": "Python 3"
    },
    "language_info": {
      "name": "python"
    }
  },
  "cells": [
    {
      "cell_type": "markdown",
      "source": [
        "IMPORTING NECESSARY LIBRARIES"
      ],
      "metadata": {
        "id": "Oxap1i4IfVOf"
      }
    },
    {
      "cell_type": "code",
      "source": [
        "import numpy as np\n",
        "import pandas as pd"
      ],
      "metadata": {
        "id": "5hi6ycmRfaGp"
      },
      "execution_count": null,
      "outputs": []
    },
    {
      "cell_type": "code",
      "source": [
        "space_decay = pd.read_csv('/SELF-ATTEMPT-2 Space decay.csv', delimiter = ',')\n",
        "space_decay.head(5)"
      ],
      "metadata": {
        "colab": {
          "base_uri": "https://localhost:8080/",
          "height": 206
        },
        "id": "h3DEJAPrfdKI",
        "outputId": "0b56ef05-4d1a-498f-95c8-d533f3962acc"
      },
      "execution_count": null,
      "outputs": [
        {
          "output_type": "execute_result",
          "data": {
            "text/plain": [
              "    OBJECT_ID  MEAN_MOTION  ECCENTRICITY  INCLINATION  RA_OF_ASC_NODE  \\\n",
              "0   1992-072J     2.921700      0.652893       7.7156         90.2410   \n",
              "1   1979-028C    13.754973      0.003072      82.9193        299.1120   \n",
              "2   2001-015A     1.038224      0.023739      12.1717         16.5368   \n",
              "3  1999-057MB    14.775907      0.006062      98.4781          8.7205   \n",
              "4  1999-057MC    14.724482      0.006226      98.4232        122.0724   \n",
              "\n",
              "   ARG_OF_PERICENTER  MEAN_ANOMALY  SEMIMAJOR_AXIS    PERIOD   APOAPSIS  \\\n",
              "0           243.1216       38.7796       20668.618   492.864  27784.871   \n",
              "1           158.9093      201.3337        7358.038   104.689   1002.507   \n",
              "2           250.1248      146.2900       41197.852  1386.984  35797.696   \n",
              "3            37.3771      323.1632        7015.076    97.456    679.465   \n",
              "4           345.1605       27.6061        7031.400    97.796    697.039   \n",
              "\n",
              "   PERIAPSIS RCS_SIZE OBJECT_TYPE  \n",
              "0    796.095   MEDIUM      DEBRIS  \n",
              "1    957.299    SMALL      DEBRIS  \n",
              "2  33841.738    LARGE     PAYLOAD  \n",
              "3    594.417    SMALL      DEBRIS  \n",
              "4    609.491    SMALL      DEBRIS  "
            ],
            "text/html": [
              "\n",
              "  <div id=\"df-d443ad04-8e5c-4c06-ab95-2e28391156b3\" class=\"colab-df-container\">\n",
              "    <div>\n",
              "<style scoped>\n",
              "    .dataframe tbody tr th:only-of-type {\n",
              "        vertical-align: middle;\n",
              "    }\n",
              "\n",
              "    .dataframe tbody tr th {\n",
              "        vertical-align: top;\n",
              "    }\n",
              "\n",
              "    .dataframe thead th {\n",
              "        text-align: right;\n",
              "    }\n",
              "</style>\n",
              "<table border=\"1\" class=\"dataframe\">\n",
              "  <thead>\n",
              "    <tr style=\"text-align: right;\">\n",
              "      <th></th>\n",
              "      <th>OBJECT_ID</th>\n",
              "      <th>MEAN_MOTION</th>\n",
              "      <th>ECCENTRICITY</th>\n",
              "      <th>INCLINATION</th>\n",
              "      <th>RA_OF_ASC_NODE</th>\n",
              "      <th>ARG_OF_PERICENTER</th>\n",
              "      <th>MEAN_ANOMALY</th>\n",
              "      <th>SEMIMAJOR_AXIS</th>\n",
              "      <th>PERIOD</th>\n",
              "      <th>APOAPSIS</th>\n",
              "      <th>PERIAPSIS</th>\n",
              "      <th>RCS_SIZE</th>\n",
              "      <th>OBJECT_TYPE</th>\n",
              "    </tr>\n",
              "  </thead>\n",
              "  <tbody>\n",
              "    <tr>\n",
              "      <th>0</th>\n",
              "      <td>1992-072J</td>\n",
              "      <td>2.921700</td>\n",
              "      <td>0.652893</td>\n",
              "      <td>7.7156</td>\n",
              "      <td>90.2410</td>\n",
              "      <td>243.1216</td>\n",
              "      <td>38.7796</td>\n",
              "      <td>20668.618</td>\n",
              "      <td>492.864</td>\n",
              "      <td>27784.871</td>\n",
              "      <td>796.095</td>\n",
              "      <td>MEDIUM</td>\n",
              "      <td>DEBRIS</td>\n",
              "    </tr>\n",
              "    <tr>\n",
              "      <th>1</th>\n",
              "      <td>1979-028C</td>\n",
              "      <td>13.754973</td>\n",
              "      <td>0.003072</td>\n",
              "      <td>82.9193</td>\n",
              "      <td>299.1120</td>\n",
              "      <td>158.9093</td>\n",
              "      <td>201.3337</td>\n",
              "      <td>7358.038</td>\n",
              "      <td>104.689</td>\n",
              "      <td>1002.507</td>\n",
              "      <td>957.299</td>\n",
              "      <td>SMALL</td>\n",
              "      <td>DEBRIS</td>\n",
              "    </tr>\n",
              "    <tr>\n",
              "      <th>2</th>\n",
              "      <td>2001-015A</td>\n",
              "      <td>1.038224</td>\n",
              "      <td>0.023739</td>\n",
              "      <td>12.1717</td>\n",
              "      <td>16.5368</td>\n",
              "      <td>250.1248</td>\n",
              "      <td>146.2900</td>\n",
              "      <td>41197.852</td>\n",
              "      <td>1386.984</td>\n",
              "      <td>35797.696</td>\n",
              "      <td>33841.738</td>\n",
              "      <td>LARGE</td>\n",
              "      <td>PAYLOAD</td>\n",
              "    </tr>\n",
              "    <tr>\n",
              "      <th>3</th>\n",
              "      <td>1999-057MB</td>\n",
              "      <td>14.775907</td>\n",
              "      <td>0.006062</td>\n",
              "      <td>98.4781</td>\n",
              "      <td>8.7205</td>\n",
              "      <td>37.3771</td>\n",
              "      <td>323.1632</td>\n",
              "      <td>7015.076</td>\n",
              "      <td>97.456</td>\n",
              "      <td>679.465</td>\n",
              "      <td>594.417</td>\n",
              "      <td>SMALL</td>\n",
              "      <td>DEBRIS</td>\n",
              "    </tr>\n",
              "    <tr>\n",
              "      <th>4</th>\n",
              "      <td>1999-057MC</td>\n",
              "      <td>14.724482</td>\n",
              "      <td>0.006226</td>\n",
              "      <td>98.4232</td>\n",
              "      <td>122.0724</td>\n",
              "      <td>345.1605</td>\n",
              "      <td>27.6061</td>\n",
              "      <td>7031.400</td>\n",
              "      <td>97.796</td>\n",
              "      <td>697.039</td>\n",
              "      <td>609.491</td>\n",
              "      <td>SMALL</td>\n",
              "      <td>DEBRIS</td>\n",
              "    </tr>\n",
              "  </tbody>\n",
              "</table>\n",
              "</div>\n",
              "    <div class=\"colab-df-buttons\">\n",
              "\n",
              "  <div class=\"colab-df-container\">\n",
              "    <button class=\"colab-df-convert\" onclick=\"convertToInteractive('df-d443ad04-8e5c-4c06-ab95-2e28391156b3')\"\n",
              "            title=\"Convert this dataframe to an interactive table.\"\n",
              "            style=\"display:none;\">\n",
              "\n",
              "  <svg xmlns=\"http://www.w3.org/2000/svg\" height=\"24px\" viewBox=\"0 -960 960 960\">\n",
              "    <path d=\"M120-120v-720h720v720H120Zm60-500h600v-160H180v160Zm220 220h160v-160H400v160Zm0 220h160v-160H400v160ZM180-400h160v-160H180v160Zm440 0h160v-160H620v160ZM180-180h160v-160H180v160Zm440 0h160v-160H620v160Z\"/>\n",
              "  </svg>\n",
              "    </button>\n",
              "\n",
              "  <style>\n",
              "    .colab-df-container {\n",
              "      display:flex;\n",
              "      gap: 12px;\n",
              "    }\n",
              "\n",
              "    .colab-df-convert {\n",
              "      background-color: #E8F0FE;\n",
              "      border: none;\n",
              "      border-radius: 50%;\n",
              "      cursor: pointer;\n",
              "      display: none;\n",
              "      fill: #1967D2;\n",
              "      height: 32px;\n",
              "      padding: 0 0 0 0;\n",
              "      width: 32px;\n",
              "    }\n",
              "\n",
              "    .colab-df-convert:hover {\n",
              "      background-color: #E2EBFA;\n",
              "      box-shadow: 0px 1px 2px rgba(60, 64, 67, 0.3), 0px 1px 3px 1px rgba(60, 64, 67, 0.15);\n",
              "      fill: #174EA6;\n",
              "    }\n",
              "\n",
              "    .colab-df-buttons div {\n",
              "      margin-bottom: 4px;\n",
              "    }\n",
              "\n",
              "    [theme=dark] .colab-df-convert {\n",
              "      background-color: #3B4455;\n",
              "      fill: #D2E3FC;\n",
              "    }\n",
              "\n",
              "    [theme=dark] .colab-df-convert:hover {\n",
              "      background-color: #434B5C;\n",
              "      box-shadow: 0px 1px 3px 1px rgba(0, 0, 0, 0.15);\n",
              "      filter: drop-shadow(0px 1px 2px rgba(0, 0, 0, 0.3));\n",
              "      fill: #FFFFFF;\n",
              "    }\n",
              "  </style>\n",
              "\n",
              "    <script>\n",
              "      const buttonEl =\n",
              "        document.querySelector('#df-d443ad04-8e5c-4c06-ab95-2e28391156b3 button.colab-df-convert');\n",
              "      buttonEl.style.display =\n",
              "        google.colab.kernel.accessAllowed ? 'block' : 'none';\n",
              "\n",
              "      async function convertToInteractive(key) {\n",
              "        const element = document.querySelector('#df-d443ad04-8e5c-4c06-ab95-2e28391156b3');\n",
              "        const dataTable =\n",
              "          await google.colab.kernel.invokeFunction('convertToInteractive',\n",
              "                                                    [key], {});\n",
              "        if (!dataTable) return;\n",
              "\n",
              "        const docLinkHtml = 'Like what you see? Visit the ' +\n",
              "          '<a target=\"_blank\" href=https://colab.research.google.com/notebooks/data_table.ipynb>data table notebook</a>'\n",
              "          + ' to learn more about interactive tables.';\n",
              "        element.innerHTML = '';\n",
              "        dataTable['output_type'] = 'display_data';\n",
              "        await google.colab.output.renderOutput(dataTable, element);\n",
              "        const docLink = document.createElement('div');\n",
              "        docLink.innerHTML = docLinkHtml;\n",
              "        element.appendChild(docLink);\n",
              "      }\n",
              "    </script>\n",
              "  </div>\n",
              "\n",
              "\n",
              "<div id=\"df-ec193e51-9c67-495e-9df3-a64ecbbebea5\">\n",
              "  <button class=\"colab-df-quickchart\" onclick=\"quickchart('df-ec193e51-9c67-495e-9df3-a64ecbbebea5')\"\n",
              "            title=\"Suggest charts\"\n",
              "            style=\"display:none;\">\n",
              "\n",
              "<svg xmlns=\"http://www.w3.org/2000/svg\" height=\"24px\"viewBox=\"0 0 24 24\"\n",
              "     width=\"24px\">\n",
              "    <g>\n",
              "        <path d=\"M19 3H5c-1.1 0-2 .9-2 2v14c0 1.1.9 2 2 2h14c1.1 0 2-.9 2-2V5c0-1.1-.9-2-2-2zM9 17H7v-7h2v7zm4 0h-2V7h2v10zm4 0h-2v-4h2v4z\"/>\n",
              "    </g>\n",
              "</svg>\n",
              "  </button>\n",
              "\n",
              "<style>\n",
              "  .colab-df-quickchart {\n",
              "      --bg-color: #E8F0FE;\n",
              "      --fill-color: #1967D2;\n",
              "      --hover-bg-color: #E2EBFA;\n",
              "      --hover-fill-color: #174EA6;\n",
              "      --disabled-fill-color: #AAA;\n",
              "      --disabled-bg-color: #DDD;\n",
              "  }\n",
              "\n",
              "  [theme=dark] .colab-df-quickchart {\n",
              "      --bg-color: #3B4455;\n",
              "      --fill-color: #D2E3FC;\n",
              "      --hover-bg-color: #434B5C;\n",
              "      --hover-fill-color: #FFFFFF;\n",
              "      --disabled-bg-color: #3B4455;\n",
              "      --disabled-fill-color: #666;\n",
              "  }\n",
              "\n",
              "  .colab-df-quickchart {\n",
              "    background-color: var(--bg-color);\n",
              "    border: none;\n",
              "    border-radius: 50%;\n",
              "    cursor: pointer;\n",
              "    display: none;\n",
              "    fill: var(--fill-color);\n",
              "    height: 32px;\n",
              "    padding: 0;\n",
              "    width: 32px;\n",
              "  }\n",
              "\n",
              "  .colab-df-quickchart:hover {\n",
              "    background-color: var(--hover-bg-color);\n",
              "    box-shadow: 0 1px 2px rgba(60, 64, 67, 0.3), 0 1px 3px 1px rgba(60, 64, 67, 0.15);\n",
              "    fill: var(--button-hover-fill-color);\n",
              "  }\n",
              "\n",
              "  .colab-df-quickchart-complete:disabled,\n",
              "  .colab-df-quickchart-complete:disabled:hover {\n",
              "    background-color: var(--disabled-bg-color);\n",
              "    fill: var(--disabled-fill-color);\n",
              "    box-shadow: none;\n",
              "  }\n",
              "\n",
              "  .colab-df-spinner {\n",
              "    border: 2px solid var(--fill-color);\n",
              "    border-color: transparent;\n",
              "    border-bottom-color: var(--fill-color);\n",
              "    animation:\n",
              "      spin 1s steps(1) infinite;\n",
              "  }\n",
              "\n",
              "  @keyframes spin {\n",
              "    0% {\n",
              "      border-color: transparent;\n",
              "      border-bottom-color: var(--fill-color);\n",
              "      border-left-color: var(--fill-color);\n",
              "    }\n",
              "    20% {\n",
              "      border-color: transparent;\n",
              "      border-left-color: var(--fill-color);\n",
              "      border-top-color: var(--fill-color);\n",
              "    }\n",
              "    30% {\n",
              "      border-color: transparent;\n",
              "      border-left-color: var(--fill-color);\n",
              "      border-top-color: var(--fill-color);\n",
              "      border-right-color: var(--fill-color);\n",
              "    }\n",
              "    40% {\n",
              "      border-color: transparent;\n",
              "      border-right-color: var(--fill-color);\n",
              "      border-top-color: var(--fill-color);\n",
              "    }\n",
              "    60% {\n",
              "      border-color: transparent;\n",
              "      border-right-color: var(--fill-color);\n",
              "    }\n",
              "    80% {\n",
              "      border-color: transparent;\n",
              "      border-right-color: var(--fill-color);\n",
              "      border-bottom-color: var(--fill-color);\n",
              "    }\n",
              "    90% {\n",
              "      border-color: transparent;\n",
              "      border-bottom-color: var(--fill-color);\n",
              "    }\n",
              "  }\n",
              "</style>\n",
              "\n",
              "  <script>\n",
              "    async function quickchart(key) {\n",
              "      const quickchartButtonEl =\n",
              "        document.querySelector('#' + key + ' button');\n",
              "      quickchartButtonEl.disabled = true;  // To prevent multiple clicks.\n",
              "      quickchartButtonEl.classList.add('colab-df-spinner');\n",
              "      try {\n",
              "        const charts = await google.colab.kernel.invokeFunction(\n",
              "            'suggestCharts', [key], {});\n",
              "      } catch (error) {\n",
              "        console.error('Error during call to suggestCharts:', error);\n",
              "      }\n",
              "      quickchartButtonEl.classList.remove('colab-df-spinner');\n",
              "      quickchartButtonEl.classList.add('colab-df-quickchart-complete');\n",
              "    }\n",
              "    (() => {\n",
              "      let quickchartButtonEl =\n",
              "        document.querySelector('#df-ec193e51-9c67-495e-9df3-a64ecbbebea5 button');\n",
              "      quickchartButtonEl.style.display =\n",
              "        google.colab.kernel.accessAllowed ? 'block' : 'none';\n",
              "    })();\n",
              "  </script>\n",
              "</div>\n",
              "\n",
              "    </div>\n",
              "  </div>\n"
            ],
            "application/vnd.google.colaboratory.intrinsic+json": {
              "type": "dataframe",
              "variable_name": "space_decay",
              "summary": "{\n  \"name\": \"space_decay\",\n  \"rows\": 14372,\n  \"fields\": [\n    {\n      \"column\": \"OBJECT_ID\",\n      \"properties\": {\n        \"dtype\": \"string\",\n        \"num_unique_values\": 14333,\n        \"samples\": [\n          \"2001-049HB\",\n          \"1999-025BGY\",\n          \"2000-055NC\"\n        ],\n        \"semantic_type\": \"\",\n        \"description\": \"\"\n      }\n    },\n    {\n      \"column\": \"MEAN_MOTION\",\n      \"properties\": {\n        \"dtype\": \"number\",\n        \"std\": 4.509304680762285,\n        \"min\": 0.05178286,\n        \"max\": 16.40409688,\n        \"num_unique_values\": 14300,\n        \"samples\": [\n          13.82732769,\n          10.64677995,\n          14.32586073\n        ],\n        \"semantic_type\": \"\",\n        \"description\": \"\"\n      }\n    },\n    {\n      \"column\": \"ECCENTRICITY\",\n      \"properties\": {\n        \"dtype\": \"number\",\n        \"std\": 0.18154720574376346,\n        \"min\": 4.9e-06,\n        \"max\": 0.8972175,\n        \"num_unique_values\": 12705,\n        \"samples\": [\n          0.0011263,\n          0.0568052,\n          0.0041276\n        ],\n        \"semantic_type\": \"\",\n        \"description\": \"\"\n      }\n    },\n    {\n      \"column\": \"INCLINATION\",\n      \"properties\": {\n        \"dtype\": \"number\",\n        \"std\": 29.62678043849761,\n        \"min\": 0.0014,\n        \"max\": 144.5862,\n        \"num_unique_values\": 11125,\n        \"samples\": [\n          98.6259,\n          98.7353,\n          65.6244\n        ],\n        \"semantic_type\": \"\",\n        \"description\": \"\"\n      }\n    },\n    {\n      \"column\": \"RA_OF_ASC_NODE\",\n      \"properties\": {\n        \"dtype\": \"number\",\n        \"std\": 116.71771340400208,\n        \"min\": 0.02,\n        \"max\": 359.9679,\n        \"num_unique_values\": 14329,\n        \"samples\": [\n          201.2234,\n          225.8797,\n          226.8588\n        ],\n        \"semantic_type\": \"\",\n        \"description\": \"\"\n      }\n    },\n    {\n      \"column\": \"ARG_OF_PERICENTER\",\n      \"properties\": {\n        \"dtype\": \"number\",\n        \"std\": 104.46186598165946,\n        \"min\": 0.0082,\n        \"max\": 359.9899,\n        \"num_unique_values\": 14339,\n        \"samples\": [\n          342.0986,\n          77.0505,\n          251.34\n        ],\n        \"semantic_type\": \"\",\n        \"description\": \"\"\n      }\n    },\n    {\n      \"column\": \"MEAN_ANOMALY\",\n      \"properties\": {\n        \"dtype\": \"number\",\n        \"std\": 109.87380695701168,\n        \"min\": 0.0048,\n        \"max\": 359.9819,\n        \"num_unique_values\": 14332,\n        \"samples\": [\n          40.7641,\n          2.7822,\n          1.5574\n        ],\n        \"semantic_type\": \"\",\n        \"description\": \"\"\n      }\n    },\n    {\n      \"column\": \"SEMIMAJOR_AXIS\",\n      \"properties\": {\n        \"dtype\": \"number\",\n        \"std\": 9580.627227139908,\n        \"min\": 6542.85,\n        \"max\": 304049.635,\n        \"num_unique_values\": 12780,\n        \"samples\": [\n          13944.454,\n          7134.469,\n          6925.357\n        ],\n        \"semantic_type\": \"\",\n        \"description\": \"\"\n      }\n    },\n    {\n      \"column\": \"PERIOD\",\n      \"properties\": {\n        \"dtype\": \"number\",\n        \"std\": 446.5170410434815,\n        \"min\": 87.783,\n        \"max\": 27808.429,\n        \"num_unique_values\": 9120,\n        \"samples\": [\n          95.259,\n          99.556,\n          100.23\n        ],\n        \"semantic_type\": \"\",\n        \"description\": \"\"\n      }\n    },\n    {\n      \"column\": \"APOAPSIS\",\n      \"properties\": {\n        \"dtype\": \"number\",\n        \"std\": 13016.299008391641,\n        \"min\": 183.393,\n        \"max\": 372136.402,\n        \"num_unique_values\": 13481,\n        \"samples\": [\n          1111.866,\n          838.892,\n          859.106\n        ],\n        \"semantic_type\": \"\",\n        \"description\": \"\"\n      }\n    },\n    {\n      \"column\": \"PERIAPSIS\",\n      \"properties\": {\n        \"dtype\": \"number\",\n        \"std\": 7943.045263947907,\n        \"min\": 73.279,\n        \"max\": 224547.015,\n        \"num_unique_values\": 13420,\n        \"samples\": [\n          522.354,\n          754.489,\n          679.174\n        ],\n        \"semantic_type\": \"\",\n        \"description\": \"\"\n      }\n    },\n    {\n      \"column\": \"RCS_SIZE\",\n      \"properties\": {\n        \"dtype\": \"category\",\n        \"num_unique_values\": 3,\n        \"samples\": [\n          \"MEDIUM\",\n          \"SMALL\",\n          \"LARGE\"\n        ],\n        \"semantic_type\": \"\",\n        \"description\": \"\"\n      }\n    },\n    {\n      \"column\": \"OBJECT_TYPE\",\n      \"properties\": {\n        \"dtype\": \"category\",\n        \"num_unique_values\": 4,\n        \"samples\": [\n          \"PAYLOAD\",\n          \"TBA\",\n          \"DEBRIS\"\n        ],\n        \"semantic_type\": \"\",\n        \"description\": \"\"\n      }\n    }\n  ]\n}"
            }
          },
          "metadata": {},
          "execution_count": 24
        }
      ]
    },
    {
      "cell_type": "code",
      "source": [
        "df = pd.read_csv('/SELF-ATTEMPT-2 Space decay.csv')"
      ],
      "metadata": {
        "id": "a-QE5GrchG-o"
      },
      "execution_count": null,
      "outputs": []
    },
    {
      "cell_type": "markdown",
      "source": [
        "Accessing the Column Names in the Dataset"
      ],
      "metadata": {
        "id": "mynv2pYuj73W"
      }
    },
    {
      "cell_type": "code",
      "source": [
        "space_decay.columns"
      ],
      "metadata": {
        "colab": {
          "base_uri": "https://localhost:8080/"
        },
        "id": "lP1f5Br4j09X",
        "outputId": "6a4622be-18f1-4c1a-95f1-baaf961389a7"
      },
      "execution_count": null,
      "outputs": [
        {
          "output_type": "execute_result",
          "data": {
            "text/plain": [
              "Index(['OBJECT_ID', 'MEAN_MOTION', 'ECCENTRICITY', 'INCLINATION',\n",
              "       'RA_OF_ASC_NODE', 'ARG_OF_PERICENTER', 'MEAN_ANOMALY', 'SEMIMAJOR_AXIS',\n",
              "       'PERIOD', 'APOAPSIS', 'PERIAPSIS', 'RCS_SIZE', 'OBJECT_TYPE'],\n",
              "      dtype='object')"
            ]
          },
          "metadata": {},
          "execution_count": 26
        }
      ]
    },
    {
      "cell_type": "code",
      "source": [
        "space_decay =space_decay.set_index('OBJECT_ID')\n",
        "space_decay.head()"
      ],
      "metadata": {
        "colab": {
          "base_uri": "https://localhost:8080/",
          "height": 237
        },
        "id": "ZLS8ifacj9-r",
        "outputId": "3f314047-9064-450e-ae3e-e25f6207edea"
      },
      "execution_count": null,
      "outputs": [
        {
          "output_type": "execute_result",
          "data": {
            "text/plain": [
              "            MEAN_MOTION  ECCENTRICITY  INCLINATION  RA_OF_ASC_NODE  \\\n",
              "OBJECT_ID                                                            \n",
              "1992-072J      2.921700      0.652893       7.7156         90.2410   \n",
              "1979-028C     13.754973      0.003072      82.9193        299.1120   \n",
              "2001-015A      1.038224      0.023739      12.1717         16.5368   \n",
              "1999-057MB    14.775907      0.006062      98.4781          8.7205   \n",
              "1999-057MC    14.724482      0.006226      98.4232        122.0724   \n",
              "\n",
              "            ARG_OF_PERICENTER  MEAN_ANOMALY  SEMIMAJOR_AXIS    PERIOD  \\\n",
              "OBJECT_ID                                                               \n",
              "1992-072J            243.1216       38.7796       20668.618   492.864   \n",
              "1979-028C            158.9093      201.3337        7358.038   104.689   \n",
              "2001-015A            250.1248      146.2900       41197.852  1386.984   \n",
              "1999-057MB            37.3771      323.1632        7015.076    97.456   \n",
              "1999-057MC           345.1605       27.6061        7031.400    97.796   \n",
              "\n",
              "             APOAPSIS  PERIAPSIS RCS_SIZE OBJECT_TYPE  \n",
              "OBJECT_ID                                              \n",
              "1992-072J   27784.871    796.095   MEDIUM      DEBRIS  \n",
              "1979-028C    1002.507    957.299    SMALL      DEBRIS  \n",
              "2001-015A   35797.696  33841.738    LARGE     PAYLOAD  \n",
              "1999-057MB    679.465    594.417    SMALL      DEBRIS  \n",
              "1999-057MC    697.039    609.491    SMALL      DEBRIS  "
            ],
            "text/html": [
              "\n",
              "  <div id=\"df-c1941c89-4278-4656-95bf-c9449b6822f5\" class=\"colab-df-container\">\n",
              "    <div>\n",
              "<style scoped>\n",
              "    .dataframe tbody tr th:only-of-type {\n",
              "        vertical-align: middle;\n",
              "    }\n",
              "\n",
              "    .dataframe tbody tr th {\n",
              "        vertical-align: top;\n",
              "    }\n",
              "\n",
              "    .dataframe thead th {\n",
              "        text-align: right;\n",
              "    }\n",
              "</style>\n",
              "<table border=\"1\" class=\"dataframe\">\n",
              "  <thead>\n",
              "    <tr style=\"text-align: right;\">\n",
              "      <th></th>\n",
              "      <th>MEAN_MOTION</th>\n",
              "      <th>ECCENTRICITY</th>\n",
              "      <th>INCLINATION</th>\n",
              "      <th>RA_OF_ASC_NODE</th>\n",
              "      <th>ARG_OF_PERICENTER</th>\n",
              "      <th>MEAN_ANOMALY</th>\n",
              "      <th>SEMIMAJOR_AXIS</th>\n",
              "      <th>PERIOD</th>\n",
              "      <th>APOAPSIS</th>\n",
              "      <th>PERIAPSIS</th>\n",
              "      <th>RCS_SIZE</th>\n",
              "      <th>OBJECT_TYPE</th>\n",
              "    </tr>\n",
              "    <tr>\n",
              "      <th>OBJECT_ID</th>\n",
              "      <th></th>\n",
              "      <th></th>\n",
              "      <th></th>\n",
              "      <th></th>\n",
              "      <th></th>\n",
              "      <th></th>\n",
              "      <th></th>\n",
              "      <th></th>\n",
              "      <th></th>\n",
              "      <th></th>\n",
              "      <th></th>\n",
              "      <th></th>\n",
              "    </tr>\n",
              "  </thead>\n",
              "  <tbody>\n",
              "    <tr>\n",
              "      <th>1992-072J</th>\n",
              "      <td>2.921700</td>\n",
              "      <td>0.652893</td>\n",
              "      <td>7.7156</td>\n",
              "      <td>90.2410</td>\n",
              "      <td>243.1216</td>\n",
              "      <td>38.7796</td>\n",
              "      <td>20668.618</td>\n",
              "      <td>492.864</td>\n",
              "      <td>27784.871</td>\n",
              "      <td>796.095</td>\n",
              "      <td>MEDIUM</td>\n",
              "      <td>DEBRIS</td>\n",
              "    </tr>\n",
              "    <tr>\n",
              "      <th>1979-028C</th>\n",
              "      <td>13.754973</td>\n",
              "      <td>0.003072</td>\n",
              "      <td>82.9193</td>\n",
              "      <td>299.1120</td>\n",
              "      <td>158.9093</td>\n",
              "      <td>201.3337</td>\n",
              "      <td>7358.038</td>\n",
              "      <td>104.689</td>\n",
              "      <td>1002.507</td>\n",
              "      <td>957.299</td>\n",
              "      <td>SMALL</td>\n",
              "      <td>DEBRIS</td>\n",
              "    </tr>\n",
              "    <tr>\n",
              "      <th>2001-015A</th>\n",
              "      <td>1.038224</td>\n",
              "      <td>0.023739</td>\n",
              "      <td>12.1717</td>\n",
              "      <td>16.5368</td>\n",
              "      <td>250.1248</td>\n",
              "      <td>146.2900</td>\n",
              "      <td>41197.852</td>\n",
              "      <td>1386.984</td>\n",
              "      <td>35797.696</td>\n",
              "      <td>33841.738</td>\n",
              "      <td>LARGE</td>\n",
              "      <td>PAYLOAD</td>\n",
              "    </tr>\n",
              "    <tr>\n",
              "      <th>1999-057MB</th>\n",
              "      <td>14.775907</td>\n",
              "      <td>0.006062</td>\n",
              "      <td>98.4781</td>\n",
              "      <td>8.7205</td>\n",
              "      <td>37.3771</td>\n",
              "      <td>323.1632</td>\n",
              "      <td>7015.076</td>\n",
              "      <td>97.456</td>\n",
              "      <td>679.465</td>\n",
              "      <td>594.417</td>\n",
              "      <td>SMALL</td>\n",
              "      <td>DEBRIS</td>\n",
              "    </tr>\n",
              "    <tr>\n",
              "      <th>1999-057MC</th>\n",
              "      <td>14.724482</td>\n",
              "      <td>0.006226</td>\n",
              "      <td>98.4232</td>\n",
              "      <td>122.0724</td>\n",
              "      <td>345.1605</td>\n",
              "      <td>27.6061</td>\n",
              "      <td>7031.400</td>\n",
              "      <td>97.796</td>\n",
              "      <td>697.039</td>\n",
              "      <td>609.491</td>\n",
              "      <td>SMALL</td>\n",
              "      <td>DEBRIS</td>\n",
              "    </tr>\n",
              "  </tbody>\n",
              "</table>\n",
              "</div>\n",
              "    <div class=\"colab-df-buttons\">\n",
              "\n",
              "  <div class=\"colab-df-container\">\n",
              "    <button class=\"colab-df-convert\" onclick=\"convertToInteractive('df-c1941c89-4278-4656-95bf-c9449b6822f5')\"\n",
              "            title=\"Convert this dataframe to an interactive table.\"\n",
              "            style=\"display:none;\">\n",
              "\n",
              "  <svg xmlns=\"http://www.w3.org/2000/svg\" height=\"24px\" viewBox=\"0 -960 960 960\">\n",
              "    <path d=\"M120-120v-720h720v720H120Zm60-500h600v-160H180v160Zm220 220h160v-160H400v160Zm0 220h160v-160H400v160ZM180-400h160v-160H180v160Zm440 0h160v-160H620v160ZM180-180h160v-160H180v160Zm440 0h160v-160H620v160Z\"/>\n",
              "  </svg>\n",
              "    </button>\n",
              "\n",
              "  <style>\n",
              "    .colab-df-container {\n",
              "      display:flex;\n",
              "      gap: 12px;\n",
              "    }\n",
              "\n",
              "    .colab-df-convert {\n",
              "      background-color: #E8F0FE;\n",
              "      border: none;\n",
              "      border-radius: 50%;\n",
              "      cursor: pointer;\n",
              "      display: none;\n",
              "      fill: #1967D2;\n",
              "      height: 32px;\n",
              "      padding: 0 0 0 0;\n",
              "      width: 32px;\n",
              "    }\n",
              "\n",
              "    .colab-df-convert:hover {\n",
              "      background-color: #E2EBFA;\n",
              "      box-shadow: 0px 1px 2px rgba(60, 64, 67, 0.3), 0px 1px 3px 1px rgba(60, 64, 67, 0.15);\n",
              "      fill: #174EA6;\n",
              "    }\n",
              "\n",
              "    .colab-df-buttons div {\n",
              "      margin-bottom: 4px;\n",
              "    }\n",
              "\n",
              "    [theme=dark] .colab-df-convert {\n",
              "      background-color: #3B4455;\n",
              "      fill: #D2E3FC;\n",
              "    }\n",
              "\n",
              "    [theme=dark] .colab-df-convert:hover {\n",
              "      background-color: #434B5C;\n",
              "      box-shadow: 0px 1px 3px 1px rgba(0, 0, 0, 0.15);\n",
              "      filter: drop-shadow(0px 1px 2px rgba(0, 0, 0, 0.3));\n",
              "      fill: #FFFFFF;\n",
              "    }\n",
              "  </style>\n",
              "\n",
              "    <script>\n",
              "      const buttonEl =\n",
              "        document.querySelector('#df-c1941c89-4278-4656-95bf-c9449b6822f5 button.colab-df-convert');\n",
              "      buttonEl.style.display =\n",
              "        google.colab.kernel.accessAllowed ? 'block' : 'none';\n",
              "\n",
              "      async function convertToInteractive(key) {\n",
              "        const element = document.querySelector('#df-c1941c89-4278-4656-95bf-c9449b6822f5');\n",
              "        const dataTable =\n",
              "          await google.colab.kernel.invokeFunction('convertToInteractive',\n",
              "                                                    [key], {});\n",
              "        if (!dataTable) return;\n",
              "\n",
              "        const docLinkHtml = 'Like what you see? Visit the ' +\n",
              "          '<a target=\"_blank\" href=https://colab.research.google.com/notebooks/data_table.ipynb>data table notebook</a>'\n",
              "          + ' to learn more about interactive tables.';\n",
              "        element.innerHTML = '';\n",
              "        dataTable['output_type'] = 'display_data';\n",
              "        await google.colab.output.renderOutput(dataTable, element);\n",
              "        const docLink = document.createElement('div');\n",
              "        docLink.innerHTML = docLinkHtml;\n",
              "        element.appendChild(docLink);\n",
              "      }\n",
              "    </script>\n",
              "  </div>\n",
              "\n",
              "\n",
              "<div id=\"df-9ca0c711-d003-4247-a6be-d19a60bcf427\">\n",
              "  <button class=\"colab-df-quickchart\" onclick=\"quickchart('df-9ca0c711-d003-4247-a6be-d19a60bcf427')\"\n",
              "            title=\"Suggest charts\"\n",
              "            style=\"display:none;\">\n",
              "\n",
              "<svg xmlns=\"http://www.w3.org/2000/svg\" height=\"24px\"viewBox=\"0 0 24 24\"\n",
              "     width=\"24px\">\n",
              "    <g>\n",
              "        <path d=\"M19 3H5c-1.1 0-2 .9-2 2v14c0 1.1.9 2 2 2h14c1.1 0 2-.9 2-2V5c0-1.1-.9-2-2-2zM9 17H7v-7h2v7zm4 0h-2V7h2v10zm4 0h-2v-4h2v4z\"/>\n",
              "    </g>\n",
              "</svg>\n",
              "  </button>\n",
              "\n",
              "<style>\n",
              "  .colab-df-quickchart {\n",
              "      --bg-color: #E8F0FE;\n",
              "      --fill-color: #1967D2;\n",
              "      --hover-bg-color: #E2EBFA;\n",
              "      --hover-fill-color: #174EA6;\n",
              "      --disabled-fill-color: #AAA;\n",
              "      --disabled-bg-color: #DDD;\n",
              "  }\n",
              "\n",
              "  [theme=dark] .colab-df-quickchart {\n",
              "      --bg-color: #3B4455;\n",
              "      --fill-color: #D2E3FC;\n",
              "      --hover-bg-color: #434B5C;\n",
              "      --hover-fill-color: #FFFFFF;\n",
              "      --disabled-bg-color: #3B4455;\n",
              "      --disabled-fill-color: #666;\n",
              "  }\n",
              "\n",
              "  .colab-df-quickchart {\n",
              "    background-color: var(--bg-color);\n",
              "    border: none;\n",
              "    border-radius: 50%;\n",
              "    cursor: pointer;\n",
              "    display: none;\n",
              "    fill: var(--fill-color);\n",
              "    height: 32px;\n",
              "    padding: 0;\n",
              "    width: 32px;\n",
              "  }\n",
              "\n",
              "  .colab-df-quickchart:hover {\n",
              "    background-color: var(--hover-bg-color);\n",
              "    box-shadow: 0 1px 2px rgba(60, 64, 67, 0.3), 0 1px 3px 1px rgba(60, 64, 67, 0.15);\n",
              "    fill: var(--button-hover-fill-color);\n",
              "  }\n",
              "\n",
              "  .colab-df-quickchart-complete:disabled,\n",
              "  .colab-df-quickchart-complete:disabled:hover {\n",
              "    background-color: var(--disabled-bg-color);\n",
              "    fill: var(--disabled-fill-color);\n",
              "    box-shadow: none;\n",
              "  }\n",
              "\n",
              "  .colab-df-spinner {\n",
              "    border: 2px solid var(--fill-color);\n",
              "    border-color: transparent;\n",
              "    border-bottom-color: var(--fill-color);\n",
              "    animation:\n",
              "      spin 1s steps(1) infinite;\n",
              "  }\n",
              "\n",
              "  @keyframes spin {\n",
              "    0% {\n",
              "      border-color: transparent;\n",
              "      border-bottom-color: var(--fill-color);\n",
              "      border-left-color: var(--fill-color);\n",
              "    }\n",
              "    20% {\n",
              "      border-color: transparent;\n",
              "      border-left-color: var(--fill-color);\n",
              "      border-top-color: var(--fill-color);\n",
              "    }\n",
              "    30% {\n",
              "      border-color: transparent;\n",
              "      border-left-color: var(--fill-color);\n",
              "      border-top-color: var(--fill-color);\n",
              "      border-right-color: var(--fill-color);\n",
              "    }\n",
              "    40% {\n",
              "      border-color: transparent;\n",
              "      border-right-color: var(--fill-color);\n",
              "      border-top-color: var(--fill-color);\n",
              "    }\n",
              "    60% {\n",
              "      border-color: transparent;\n",
              "      border-right-color: var(--fill-color);\n",
              "    }\n",
              "    80% {\n",
              "      border-color: transparent;\n",
              "      border-right-color: var(--fill-color);\n",
              "      border-bottom-color: var(--fill-color);\n",
              "    }\n",
              "    90% {\n",
              "      border-color: transparent;\n",
              "      border-bottom-color: var(--fill-color);\n",
              "    }\n",
              "  }\n",
              "</style>\n",
              "\n",
              "  <script>\n",
              "    async function quickchart(key) {\n",
              "      const quickchartButtonEl =\n",
              "        document.querySelector('#' + key + ' button');\n",
              "      quickchartButtonEl.disabled = true;  // To prevent multiple clicks.\n",
              "      quickchartButtonEl.classList.add('colab-df-spinner');\n",
              "      try {\n",
              "        const charts = await google.colab.kernel.invokeFunction(\n",
              "            'suggestCharts', [key], {});\n",
              "      } catch (error) {\n",
              "        console.error('Error during call to suggestCharts:', error);\n",
              "      }\n",
              "      quickchartButtonEl.classList.remove('colab-df-spinner');\n",
              "      quickchartButtonEl.classList.add('colab-df-quickchart-complete');\n",
              "    }\n",
              "    (() => {\n",
              "      let quickchartButtonEl =\n",
              "        document.querySelector('#df-9ca0c711-d003-4247-a6be-d19a60bcf427 button');\n",
              "      quickchartButtonEl.style.display =\n",
              "        google.colab.kernel.accessAllowed ? 'block' : 'none';\n",
              "    })();\n",
              "  </script>\n",
              "</div>\n",
              "\n",
              "    </div>\n",
              "  </div>\n"
            ],
            "application/vnd.google.colaboratory.intrinsic+json": {
              "type": "dataframe",
              "variable_name": "space_decay",
              "summary": "{\n  \"name\": \"space_decay\",\n  \"rows\": 14372,\n  \"fields\": [\n    {\n      \"column\": \"MEAN_MOTION\",\n      \"properties\": {\n        \"dtype\": \"number\",\n        \"std\": 4.509304680762285,\n        \"min\": 0.05178286,\n        \"max\": 16.40409688,\n        \"num_unique_values\": 14300,\n        \"samples\": [\n          13.82732769,\n          10.64677995,\n          14.32586073\n        ],\n        \"semantic_type\": \"\",\n        \"description\": \"\"\n      }\n    },\n    {\n      \"column\": \"ECCENTRICITY\",\n      \"properties\": {\n        \"dtype\": \"number\",\n        \"std\": 0.18154720574376346,\n        \"min\": 4.9e-06,\n        \"max\": 0.8972175,\n        \"num_unique_values\": 12705,\n        \"samples\": [\n          0.0011263,\n          0.0568052,\n          0.0041276\n        ],\n        \"semantic_type\": \"\",\n        \"description\": \"\"\n      }\n    },\n    {\n      \"column\": \"INCLINATION\",\n      \"properties\": {\n        \"dtype\": \"number\",\n        \"std\": 29.62678043849761,\n        \"min\": 0.0014,\n        \"max\": 144.5862,\n        \"num_unique_values\": 11125,\n        \"samples\": [\n          98.6259,\n          98.7353,\n          65.6244\n        ],\n        \"semantic_type\": \"\",\n        \"description\": \"\"\n      }\n    },\n    {\n      \"column\": \"RA_OF_ASC_NODE\",\n      \"properties\": {\n        \"dtype\": \"number\",\n        \"std\": 116.71771340400208,\n        \"min\": 0.02,\n        \"max\": 359.9679,\n        \"num_unique_values\": 14329,\n        \"samples\": [\n          201.2234,\n          225.8797,\n          226.8588\n        ],\n        \"semantic_type\": \"\",\n        \"description\": \"\"\n      }\n    },\n    {\n      \"column\": \"ARG_OF_PERICENTER\",\n      \"properties\": {\n        \"dtype\": \"number\",\n        \"std\": 104.46186598165946,\n        \"min\": 0.0082,\n        \"max\": 359.9899,\n        \"num_unique_values\": 14339,\n        \"samples\": [\n          342.0986,\n          77.0505,\n          251.34\n        ],\n        \"semantic_type\": \"\",\n        \"description\": \"\"\n      }\n    },\n    {\n      \"column\": \"MEAN_ANOMALY\",\n      \"properties\": {\n        \"dtype\": \"number\",\n        \"std\": 109.87380695701168,\n        \"min\": 0.0048,\n        \"max\": 359.9819,\n        \"num_unique_values\": 14332,\n        \"samples\": [\n          40.7641,\n          2.7822,\n          1.5574\n        ],\n        \"semantic_type\": \"\",\n        \"description\": \"\"\n      }\n    },\n    {\n      \"column\": \"SEMIMAJOR_AXIS\",\n      \"properties\": {\n        \"dtype\": \"number\",\n        \"std\": 9580.627227139908,\n        \"min\": 6542.85,\n        \"max\": 304049.635,\n        \"num_unique_values\": 12780,\n        \"samples\": [\n          13944.454,\n          7134.469,\n          6925.357\n        ],\n        \"semantic_type\": \"\",\n        \"description\": \"\"\n      }\n    },\n    {\n      \"column\": \"PERIOD\",\n      \"properties\": {\n        \"dtype\": \"number\",\n        \"std\": 446.5170410434815,\n        \"min\": 87.783,\n        \"max\": 27808.429,\n        \"num_unique_values\": 9120,\n        \"samples\": [\n          95.259,\n          99.556,\n          100.23\n        ],\n        \"semantic_type\": \"\",\n        \"description\": \"\"\n      }\n    },\n    {\n      \"column\": \"APOAPSIS\",\n      \"properties\": {\n        \"dtype\": \"number\",\n        \"std\": 13016.299008391641,\n        \"min\": 183.393,\n        \"max\": 372136.402,\n        \"num_unique_values\": 13481,\n        \"samples\": [\n          1111.866,\n          838.892,\n          859.106\n        ],\n        \"semantic_type\": \"\",\n        \"description\": \"\"\n      }\n    },\n    {\n      \"column\": \"PERIAPSIS\",\n      \"properties\": {\n        \"dtype\": \"number\",\n        \"std\": 7943.045263947907,\n        \"min\": 73.279,\n        \"max\": 224547.015,\n        \"num_unique_values\": 13420,\n        \"samples\": [\n          522.354,\n          754.489,\n          679.174\n        ],\n        \"semantic_type\": \"\",\n        \"description\": \"\"\n      }\n    },\n    {\n      \"column\": \"RCS_SIZE\",\n      \"properties\": {\n        \"dtype\": \"category\",\n        \"num_unique_values\": 3,\n        \"samples\": [\n          \"MEDIUM\",\n          \"SMALL\",\n          \"LARGE\"\n        ],\n        \"semantic_type\": \"\",\n        \"description\": \"\"\n      }\n    },\n    {\n      \"column\": \"OBJECT_TYPE\",\n      \"properties\": {\n        \"dtype\": \"category\",\n        \"num_unique_values\": 4,\n        \"samples\": [\n          \"PAYLOAD\",\n          \"TBA\",\n          \"DEBRIS\"\n        ],\n        \"semantic_type\": \"\",\n        \"description\": \"\"\n      }\n    }\n  ]\n}"
            }
          },
          "metadata": {},
          "execution_count": 27
        }
      ]
    },
    {
      "cell_type": "markdown",
      "source": [
        "Finding the Shape of the Dataset"
      ],
      "metadata": {
        "id": "4V9igo_alDD5"
      }
    },
    {
      "cell_type": "code",
      "source": [
        "space_decay.shape"
      ],
      "metadata": {
        "colab": {
          "base_uri": "https://localhost:8080/"
        },
        "id": "pva6AmnHk_bA",
        "outputId": "5cf39e3a-aad5-434b-a180-9fa466db7661"
      },
      "execution_count": null,
      "outputs": [
        {
          "output_type": "execute_result",
          "data": {
            "text/plain": [
              "(14372, 12)"
            ]
          },
          "metadata": {},
          "execution_count": 28
        }
      ]
    },
    {
      "cell_type": "code",
      "source": [
        "space_decay.info()"
      ],
      "metadata": {
        "colab": {
          "base_uri": "https://localhost:8080/"
        },
        "id": "arWRZV4vlHaX",
        "outputId": "1b52cab9-da88-4ea2-975d-e595cce782a2"
      },
      "execution_count": null,
      "outputs": [
        {
          "output_type": "stream",
          "name": "stdout",
          "text": [
            "<class 'pandas.core.frame.DataFrame'>\n",
            "Index: 14372 entries, 1992-072J to nan\n",
            "Data columns (total 12 columns):\n",
            " #   Column             Non-Null Count  Dtype  \n",
            "---  ------             --------------  -----  \n",
            " 0   MEAN_MOTION        14372 non-null  float64\n",
            " 1   ECCENTRICITY       14372 non-null  float64\n",
            " 2   INCLINATION        14372 non-null  float64\n",
            " 3   RA_OF_ASC_NODE     14372 non-null  float64\n",
            " 4   ARG_OF_PERICENTER  14372 non-null  float64\n",
            " 5   MEAN_ANOMALY       14372 non-null  float64\n",
            " 6   SEMIMAJOR_AXIS     14372 non-null  float64\n",
            " 7   PERIOD             14372 non-null  float64\n",
            " 8   APOAPSIS           14372 non-null  float64\n",
            " 9   PERIAPSIS          14372 non-null  float64\n",
            " 10  RCS_SIZE           14174 non-null  object \n",
            " 11  OBJECT_TYPE        14372 non-null  object \n",
            "dtypes: float64(10), object(2)\n",
            "memory usage: 1.4+ MB\n"
          ]
        }
      ]
    },
    {
      "cell_type": "markdown",
      "source": [
        "CHECK MISSING VALUES"
      ],
      "metadata": {
        "id": "SKz30SvwlQyl"
      }
    },
    {
      "cell_type": "code",
      "source": [
        "space_decay.isna().sum()"
      ],
      "metadata": {
        "colab": {
          "base_uri": "https://localhost:8080/"
        },
        "id": "zm-hI77mlKgF",
        "outputId": "82815b2e-4899-4fdc-e3e6-845be6b47b9f"
      },
      "execution_count": null,
      "outputs": [
        {
          "output_type": "execute_result",
          "data": {
            "text/plain": [
              "MEAN_MOTION            0\n",
              "ECCENTRICITY           0\n",
              "INCLINATION            0\n",
              "RA_OF_ASC_NODE         0\n",
              "ARG_OF_PERICENTER      0\n",
              "MEAN_ANOMALY           0\n",
              "SEMIMAJOR_AXIS         0\n",
              "PERIOD                 0\n",
              "APOAPSIS               0\n",
              "PERIAPSIS              0\n",
              "RCS_SIZE             198\n",
              "OBJECT_TYPE            0\n",
              "dtype: int64"
            ]
          },
          "metadata": {},
          "execution_count": 30
        }
      ]
    },
    {
      "cell_type": "code",
      "source": [
        "space_decay.dropna(how='any', inplace=True)"
      ],
      "metadata": {
        "id": "iSWmgDIolitY"
      },
      "execution_count": null,
      "outputs": []
    },
    {
      "cell_type": "code",
      "source": [
        "space_decay.isna().sum()"
      ],
      "metadata": {
        "colab": {
          "base_uri": "https://localhost:8080/"
        },
        "id": "0g1tzEOTljVI",
        "outputId": "4179440a-fb54-44fd-8ac0-c9888707ad2d"
      },
      "execution_count": null,
      "outputs": [
        {
          "output_type": "execute_result",
          "data": {
            "text/plain": [
              "MEAN_MOTION          0\n",
              "ECCENTRICITY         0\n",
              "INCLINATION          0\n",
              "RA_OF_ASC_NODE       0\n",
              "ARG_OF_PERICENTER    0\n",
              "MEAN_ANOMALY         0\n",
              "SEMIMAJOR_AXIS       0\n",
              "PERIOD               0\n",
              "APOAPSIS             0\n",
              "PERIAPSIS            0\n",
              "RCS_SIZE             0\n",
              "OBJECT_TYPE          0\n",
              "dtype: int64"
            ]
          },
          "metadata": {},
          "execution_count": 32
        }
      ]
    },
    {
      "cell_type": "code",
      "source": [
        "space_decay.shape"
      ],
      "metadata": {
        "colab": {
          "base_uri": "https://localhost:8080/"
        },
        "id": "QzazDZRKllvk",
        "outputId": "f87b904c-668f-4e95-e456-c09f846fb021"
      },
      "execution_count": null,
      "outputs": [
        {
          "output_type": "execute_result",
          "data": {
            "text/plain": [
              "(14174, 12)"
            ]
          },
          "metadata": {},
          "execution_count": 33
        }
      ]
    },
    {
      "cell_type": "markdown",
      "source": [
        "Unique Values in the Data"
      ],
      "metadata": {
        "id": "RK2V40fel2eI"
      }
    },
    {
      "cell_type": "code",
      "source": [
        "space_decay.nunique()"
      ],
      "metadata": {
        "colab": {
          "base_uri": "https://localhost:8080/"
        },
        "id": "JayDUu3UlzA-",
        "outputId": "22720f54-562f-493b-e1ec-2af7bdce1245"
      },
      "execution_count": null,
      "outputs": [
        {
          "output_type": "execute_result",
          "data": {
            "text/plain": [
              "MEAN_MOTION          14102\n",
              "ECCENTRICITY         12510\n",
              "INCLINATION          10933\n",
              "RA_OF_ASC_NODE       14131\n",
              "ARG_OF_PERICENTER    14141\n",
              "MEAN_ANOMALY         14134\n",
              "SEMIMAJOR_AXIS       12583\n",
              "PERIOD                8935\n",
              "APOAPSIS             13284\n",
              "PERIAPSIS            13222\n",
              "RCS_SIZE                 3\n",
              "OBJECT_TYPE              4\n",
              "dtype: int64"
            ]
          },
          "metadata": {},
          "execution_count": 34
        }
      ]
    },
    {
      "cell_type": "code",
      "source": [
        "space_decay['OBJECT_TYPE'].unique()"
      ],
      "metadata": {
        "colab": {
          "base_uri": "https://localhost:8080/"
        },
        "id": "Ze02MaH6l8I5",
        "outputId": "5972ceeb-4c33-4499-8be5-dcd13c0470bb"
      },
      "execution_count": null,
      "outputs": [
        {
          "output_type": "execute_result",
          "data": {
            "text/plain": [
              "array(['DEBRIS', 'PAYLOAD', 'ROCKET BODY', 'TBA'], dtype=object)"
            ]
          },
          "metadata": {},
          "execution_count": 36
        }
      ]
    },
    {
      "cell_type": "markdown",
      "source": [
        "LABEL ENCODING"
      ],
      "metadata": {
        "id": "xONmBVzrmPbW"
      }
    },
    {
      "cell_type": "code",
      "source": [
        "from sklearn.preprocessing import LabelEncoder\n",
        "le = LabelEncoder()\n",
        "space_decay[['OBJECT_TYPE']] = space_decay[['OBJECT_TYPE']].apply(le.fit_transform)"
      ],
      "metadata": {
        "id": "YUy-wDnmmPJZ"
      },
      "execution_count": null,
      "outputs": []
    },
    {
      "cell_type": "code",
      "source": [
        "space_decay.head()"
      ],
      "metadata": {
        "colab": {
          "base_uri": "https://localhost:8080/",
          "height": 237
        },
        "id": "HWe52RJ4mCU_",
        "outputId": "387debb6-8ad8-4983-e9c5-18a2b75e46e7"
      },
      "execution_count": null,
      "outputs": [
        {
          "output_type": "execute_result",
          "data": {
            "text/plain": [
              "            MEAN_MOTION  ECCENTRICITY  INCLINATION  RA_OF_ASC_NODE  \\\n",
              "OBJECT_ID                                                            \n",
              "1992-072J      2.921700      0.652893       7.7156         90.2410   \n",
              "1979-028C     13.754973      0.003072      82.9193        299.1120   \n",
              "2001-015A      1.038224      0.023739      12.1717         16.5368   \n",
              "1999-057MB    14.775907      0.006062      98.4781          8.7205   \n",
              "1999-057MC    14.724482      0.006226      98.4232        122.0724   \n",
              "\n",
              "            ARG_OF_PERICENTER  MEAN_ANOMALY  SEMIMAJOR_AXIS    PERIOD  \\\n",
              "OBJECT_ID                                                               \n",
              "1992-072J            243.1216       38.7796       20668.618   492.864   \n",
              "1979-028C            158.9093      201.3337        7358.038   104.689   \n",
              "2001-015A            250.1248      146.2900       41197.852  1386.984   \n",
              "1999-057MB            37.3771      323.1632        7015.076    97.456   \n",
              "1999-057MC           345.1605       27.6061        7031.400    97.796   \n",
              "\n",
              "             APOAPSIS  PERIAPSIS RCS_SIZE  OBJECT_TYPE  \n",
              "OBJECT_ID                                               \n",
              "1992-072J   27784.871    796.095   MEDIUM            0  \n",
              "1979-028C    1002.507    957.299    SMALL            0  \n",
              "2001-015A   35797.696  33841.738    LARGE            1  \n",
              "1999-057MB    679.465    594.417    SMALL            0  \n",
              "1999-057MC    697.039    609.491    SMALL            0  "
            ],
            "text/html": [
              "\n",
              "  <div id=\"df-ab7f9cd6-2d82-4b26-a773-1f2c54d98de3\" class=\"colab-df-container\">\n",
              "    <div>\n",
              "<style scoped>\n",
              "    .dataframe tbody tr th:only-of-type {\n",
              "        vertical-align: middle;\n",
              "    }\n",
              "\n",
              "    .dataframe tbody tr th {\n",
              "        vertical-align: top;\n",
              "    }\n",
              "\n",
              "    .dataframe thead th {\n",
              "        text-align: right;\n",
              "    }\n",
              "</style>\n",
              "<table border=\"1\" class=\"dataframe\">\n",
              "  <thead>\n",
              "    <tr style=\"text-align: right;\">\n",
              "      <th></th>\n",
              "      <th>MEAN_MOTION</th>\n",
              "      <th>ECCENTRICITY</th>\n",
              "      <th>INCLINATION</th>\n",
              "      <th>RA_OF_ASC_NODE</th>\n",
              "      <th>ARG_OF_PERICENTER</th>\n",
              "      <th>MEAN_ANOMALY</th>\n",
              "      <th>SEMIMAJOR_AXIS</th>\n",
              "      <th>PERIOD</th>\n",
              "      <th>APOAPSIS</th>\n",
              "      <th>PERIAPSIS</th>\n",
              "      <th>RCS_SIZE</th>\n",
              "      <th>OBJECT_TYPE</th>\n",
              "    </tr>\n",
              "    <tr>\n",
              "      <th>OBJECT_ID</th>\n",
              "      <th></th>\n",
              "      <th></th>\n",
              "      <th></th>\n",
              "      <th></th>\n",
              "      <th></th>\n",
              "      <th></th>\n",
              "      <th></th>\n",
              "      <th></th>\n",
              "      <th></th>\n",
              "      <th></th>\n",
              "      <th></th>\n",
              "      <th></th>\n",
              "    </tr>\n",
              "  </thead>\n",
              "  <tbody>\n",
              "    <tr>\n",
              "      <th>1992-072J</th>\n",
              "      <td>2.921700</td>\n",
              "      <td>0.652893</td>\n",
              "      <td>7.7156</td>\n",
              "      <td>90.2410</td>\n",
              "      <td>243.1216</td>\n",
              "      <td>38.7796</td>\n",
              "      <td>20668.618</td>\n",
              "      <td>492.864</td>\n",
              "      <td>27784.871</td>\n",
              "      <td>796.095</td>\n",
              "      <td>MEDIUM</td>\n",
              "      <td>0</td>\n",
              "    </tr>\n",
              "    <tr>\n",
              "      <th>1979-028C</th>\n",
              "      <td>13.754973</td>\n",
              "      <td>0.003072</td>\n",
              "      <td>82.9193</td>\n",
              "      <td>299.1120</td>\n",
              "      <td>158.9093</td>\n",
              "      <td>201.3337</td>\n",
              "      <td>7358.038</td>\n",
              "      <td>104.689</td>\n",
              "      <td>1002.507</td>\n",
              "      <td>957.299</td>\n",
              "      <td>SMALL</td>\n",
              "      <td>0</td>\n",
              "    </tr>\n",
              "    <tr>\n",
              "      <th>2001-015A</th>\n",
              "      <td>1.038224</td>\n",
              "      <td>0.023739</td>\n",
              "      <td>12.1717</td>\n",
              "      <td>16.5368</td>\n",
              "      <td>250.1248</td>\n",
              "      <td>146.2900</td>\n",
              "      <td>41197.852</td>\n",
              "      <td>1386.984</td>\n",
              "      <td>35797.696</td>\n",
              "      <td>33841.738</td>\n",
              "      <td>LARGE</td>\n",
              "      <td>1</td>\n",
              "    </tr>\n",
              "    <tr>\n",
              "      <th>1999-057MB</th>\n",
              "      <td>14.775907</td>\n",
              "      <td>0.006062</td>\n",
              "      <td>98.4781</td>\n",
              "      <td>8.7205</td>\n",
              "      <td>37.3771</td>\n",
              "      <td>323.1632</td>\n",
              "      <td>7015.076</td>\n",
              "      <td>97.456</td>\n",
              "      <td>679.465</td>\n",
              "      <td>594.417</td>\n",
              "      <td>SMALL</td>\n",
              "      <td>0</td>\n",
              "    </tr>\n",
              "    <tr>\n",
              "      <th>1999-057MC</th>\n",
              "      <td>14.724482</td>\n",
              "      <td>0.006226</td>\n",
              "      <td>98.4232</td>\n",
              "      <td>122.0724</td>\n",
              "      <td>345.1605</td>\n",
              "      <td>27.6061</td>\n",
              "      <td>7031.400</td>\n",
              "      <td>97.796</td>\n",
              "      <td>697.039</td>\n",
              "      <td>609.491</td>\n",
              "      <td>SMALL</td>\n",
              "      <td>0</td>\n",
              "    </tr>\n",
              "  </tbody>\n",
              "</table>\n",
              "</div>\n",
              "    <div class=\"colab-df-buttons\">\n",
              "\n",
              "  <div class=\"colab-df-container\">\n",
              "    <button class=\"colab-df-convert\" onclick=\"convertToInteractive('df-ab7f9cd6-2d82-4b26-a773-1f2c54d98de3')\"\n",
              "            title=\"Convert this dataframe to an interactive table.\"\n",
              "            style=\"display:none;\">\n",
              "\n",
              "  <svg xmlns=\"http://www.w3.org/2000/svg\" height=\"24px\" viewBox=\"0 -960 960 960\">\n",
              "    <path d=\"M120-120v-720h720v720H120Zm60-500h600v-160H180v160Zm220 220h160v-160H400v160Zm0 220h160v-160H400v160ZM180-400h160v-160H180v160Zm440 0h160v-160H620v160ZM180-180h160v-160H180v160Zm440 0h160v-160H620v160Z\"/>\n",
              "  </svg>\n",
              "    </button>\n",
              "\n",
              "  <style>\n",
              "    .colab-df-container {\n",
              "      display:flex;\n",
              "      gap: 12px;\n",
              "    }\n",
              "\n",
              "    .colab-df-convert {\n",
              "      background-color: #E8F0FE;\n",
              "      border: none;\n",
              "      border-radius: 50%;\n",
              "      cursor: pointer;\n",
              "      display: none;\n",
              "      fill: #1967D2;\n",
              "      height: 32px;\n",
              "      padding: 0 0 0 0;\n",
              "      width: 32px;\n",
              "    }\n",
              "\n",
              "    .colab-df-convert:hover {\n",
              "      background-color: #E2EBFA;\n",
              "      box-shadow: 0px 1px 2px rgba(60, 64, 67, 0.3), 0px 1px 3px 1px rgba(60, 64, 67, 0.15);\n",
              "      fill: #174EA6;\n",
              "    }\n",
              "\n",
              "    .colab-df-buttons div {\n",
              "      margin-bottom: 4px;\n",
              "    }\n",
              "\n",
              "    [theme=dark] .colab-df-convert {\n",
              "      background-color: #3B4455;\n",
              "      fill: #D2E3FC;\n",
              "    }\n",
              "\n",
              "    [theme=dark] .colab-df-convert:hover {\n",
              "      background-color: #434B5C;\n",
              "      box-shadow: 0px 1px 3px 1px rgba(0, 0, 0, 0.15);\n",
              "      filter: drop-shadow(0px 1px 2px rgba(0, 0, 0, 0.3));\n",
              "      fill: #FFFFFF;\n",
              "    }\n",
              "  </style>\n",
              "\n",
              "    <script>\n",
              "      const buttonEl =\n",
              "        document.querySelector('#df-ab7f9cd6-2d82-4b26-a773-1f2c54d98de3 button.colab-df-convert');\n",
              "      buttonEl.style.display =\n",
              "        google.colab.kernel.accessAllowed ? 'block' : 'none';\n",
              "\n",
              "      async function convertToInteractive(key) {\n",
              "        const element = document.querySelector('#df-ab7f9cd6-2d82-4b26-a773-1f2c54d98de3');\n",
              "        const dataTable =\n",
              "          await google.colab.kernel.invokeFunction('convertToInteractive',\n",
              "                                                    [key], {});\n",
              "        if (!dataTable) return;\n",
              "\n",
              "        const docLinkHtml = 'Like what you see? Visit the ' +\n",
              "          '<a target=\"_blank\" href=https://colab.research.google.com/notebooks/data_table.ipynb>data table notebook</a>'\n",
              "          + ' to learn more about interactive tables.';\n",
              "        element.innerHTML = '';\n",
              "        dataTable['output_type'] = 'display_data';\n",
              "        await google.colab.output.renderOutput(dataTable, element);\n",
              "        const docLink = document.createElement('div');\n",
              "        docLink.innerHTML = docLinkHtml;\n",
              "        element.appendChild(docLink);\n",
              "      }\n",
              "    </script>\n",
              "  </div>\n",
              "\n",
              "\n",
              "<div id=\"df-83ed2dd7-bbb2-4eff-bb2e-fa358bd83831\">\n",
              "  <button class=\"colab-df-quickchart\" onclick=\"quickchart('df-83ed2dd7-bbb2-4eff-bb2e-fa358bd83831')\"\n",
              "            title=\"Suggest charts\"\n",
              "            style=\"display:none;\">\n",
              "\n",
              "<svg xmlns=\"http://www.w3.org/2000/svg\" height=\"24px\"viewBox=\"0 0 24 24\"\n",
              "     width=\"24px\">\n",
              "    <g>\n",
              "        <path d=\"M19 3H5c-1.1 0-2 .9-2 2v14c0 1.1.9 2 2 2h14c1.1 0 2-.9 2-2V5c0-1.1-.9-2-2-2zM9 17H7v-7h2v7zm4 0h-2V7h2v10zm4 0h-2v-4h2v4z\"/>\n",
              "    </g>\n",
              "</svg>\n",
              "  </button>\n",
              "\n",
              "<style>\n",
              "  .colab-df-quickchart {\n",
              "      --bg-color: #E8F0FE;\n",
              "      --fill-color: #1967D2;\n",
              "      --hover-bg-color: #E2EBFA;\n",
              "      --hover-fill-color: #174EA6;\n",
              "      --disabled-fill-color: #AAA;\n",
              "      --disabled-bg-color: #DDD;\n",
              "  }\n",
              "\n",
              "  [theme=dark] .colab-df-quickchart {\n",
              "      --bg-color: #3B4455;\n",
              "      --fill-color: #D2E3FC;\n",
              "      --hover-bg-color: #434B5C;\n",
              "      --hover-fill-color: #FFFFFF;\n",
              "      --disabled-bg-color: #3B4455;\n",
              "      --disabled-fill-color: #666;\n",
              "  }\n",
              "\n",
              "  .colab-df-quickchart {\n",
              "    background-color: var(--bg-color);\n",
              "    border: none;\n",
              "    border-radius: 50%;\n",
              "    cursor: pointer;\n",
              "    display: none;\n",
              "    fill: var(--fill-color);\n",
              "    height: 32px;\n",
              "    padding: 0;\n",
              "    width: 32px;\n",
              "  }\n",
              "\n",
              "  .colab-df-quickchart:hover {\n",
              "    background-color: var(--hover-bg-color);\n",
              "    box-shadow: 0 1px 2px rgba(60, 64, 67, 0.3), 0 1px 3px 1px rgba(60, 64, 67, 0.15);\n",
              "    fill: var(--button-hover-fill-color);\n",
              "  }\n",
              "\n",
              "  .colab-df-quickchart-complete:disabled,\n",
              "  .colab-df-quickchart-complete:disabled:hover {\n",
              "    background-color: var(--disabled-bg-color);\n",
              "    fill: var(--disabled-fill-color);\n",
              "    box-shadow: none;\n",
              "  }\n",
              "\n",
              "  .colab-df-spinner {\n",
              "    border: 2px solid var(--fill-color);\n",
              "    border-color: transparent;\n",
              "    border-bottom-color: var(--fill-color);\n",
              "    animation:\n",
              "      spin 1s steps(1) infinite;\n",
              "  }\n",
              "\n",
              "  @keyframes spin {\n",
              "    0% {\n",
              "      border-color: transparent;\n",
              "      border-bottom-color: var(--fill-color);\n",
              "      border-left-color: var(--fill-color);\n",
              "    }\n",
              "    20% {\n",
              "      border-color: transparent;\n",
              "      border-left-color: var(--fill-color);\n",
              "      border-top-color: var(--fill-color);\n",
              "    }\n",
              "    30% {\n",
              "      border-color: transparent;\n",
              "      border-left-color: var(--fill-color);\n",
              "      border-top-color: var(--fill-color);\n",
              "      border-right-color: var(--fill-color);\n",
              "    }\n",
              "    40% {\n",
              "      border-color: transparent;\n",
              "      border-right-color: var(--fill-color);\n",
              "      border-top-color: var(--fill-color);\n",
              "    }\n",
              "    60% {\n",
              "      border-color: transparent;\n",
              "      border-right-color: var(--fill-color);\n",
              "    }\n",
              "    80% {\n",
              "      border-color: transparent;\n",
              "      border-right-color: var(--fill-color);\n",
              "      border-bottom-color: var(--fill-color);\n",
              "    }\n",
              "    90% {\n",
              "      border-color: transparent;\n",
              "      border-bottom-color: var(--fill-color);\n",
              "    }\n",
              "  }\n",
              "</style>\n",
              "\n",
              "  <script>\n",
              "    async function quickchart(key) {\n",
              "      const quickchartButtonEl =\n",
              "        document.querySelector('#' + key + ' button');\n",
              "      quickchartButtonEl.disabled = true;  // To prevent multiple clicks.\n",
              "      quickchartButtonEl.classList.add('colab-df-spinner');\n",
              "      try {\n",
              "        const charts = await google.colab.kernel.invokeFunction(\n",
              "            'suggestCharts', [key], {});\n",
              "      } catch (error) {\n",
              "        console.error('Error during call to suggestCharts:', error);\n",
              "      }\n",
              "      quickchartButtonEl.classList.remove('colab-df-spinner');\n",
              "      quickchartButtonEl.classList.add('colab-df-quickchart-complete');\n",
              "    }\n",
              "    (() => {\n",
              "      let quickchartButtonEl =\n",
              "        document.querySelector('#df-83ed2dd7-bbb2-4eff-bb2e-fa358bd83831 button');\n",
              "      quickchartButtonEl.style.display =\n",
              "        google.colab.kernel.accessAllowed ? 'block' : 'none';\n",
              "    })();\n",
              "  </script>\n",
              "</div>\n",
              "\n",
              "    </div>\n",
              "  </div>\n"
            ],
            "application/vnd.google.colaboratory.intrinsic+json": {
              "type": "dataframe",
              "variable_name": "space_decay",
              "summary": "{\n  \"name\": \"space_decay\",\n  \"rows\": 14174,\n  \"fields\": [\n    {\n      \"column\": \"MEAN_MOTION\",\n      \"properties\": {\n        \"dtype\": \"number\",\n        \"std\": 4.390328835937256,\n        \"min\": 0.11150902,\n        \"max\": 16.40409688,\n        \"num_unique_values\": 14102,\n        \"samples\": [\n          2.52689605,\n          14.30621428,\n          14.74877727\n        ],\n        \"semantic_type\": \"\",\n        \"description\": \"\"\n      }\n    },\n    {\n      \"column\": \"ECCENTRICITY\",\n      \"properties\": {\n        \"dtype\": \"number\",\n        \"std\": 0.17847713068269727,\n        \"min\": 4.9e-06,\n        \"max\": 0.8972175,\n        \"num_unique_values\": 12510,\n        \"samples\": [\n          0.0003908,\n          0.0151674,\n          0.021094\n        ],\n        \"semantic_type\": \"\",\n        \"description\": \"\"\n      }\n    },\n    {\n      \"column\": \"INCLINATION\",\n      \"properties\": {\n        \"dtype\": \"number\",\n        \"std\": 29.024965957188847,\n        \"min\": 0.0014,\n        \"max\": 144.5862,\n        \"num_unique_values\": 10933,\n        \"samples\": [\n          97.7451,\n          74.0039,\n          98.2958\n        ],\n        \"semantic_type\": \"\",\n        \"description\": \"\"\n      }\n    },\n    {\n      \"column\": \"RA_OF_ASC_NODE\",\n      \"properties\": {\n        \"dtype\": \"number\",\n        \"std\": 117.19215263626394,\n        \"min\": 0.02,\n        \"max\": 359.9679,\n        \"num_unique_values\": 14131,\n        \"samples\": [\n          204.8106,\n          249.6845,\n          6.7387\n        ],\n        \"semantic_type\": \"\",\n        \"description\": \"\"\n      }\n    },\n    {\n      \"column\": \"ARG_OF_PERICENTER\",\n      \"properties\": {\n        \"dtype\": \"number\",\n        \"std\": 104.13131935681463,\n        \"min\": 0.0082,\n        \"max\": 359.9899,\n        \"num_unique_values\": 14141,\n        \"samples\": [\n          314.8094,\n          74.1032,\n          351.0539\n        ],\n        \"semantic_type\": \"\",\n        \"description\": \"\"\n      }\n    },\n    {\n      \"column\": \"MEAN_ANOMALY\",\n      \"properties\": {\n        \"dtype\": \"number\",\n        \"std\": 109.40720013792958,\n        \"min\": 0.0048,\n        \"max\": 359.9819,\n        \"num_unique_values\": 14134,\n        \"samples\": [\n          34.1269,\n          191.4927,\n          241.4541\n        ],\n        \"semantic_type\": \"\",\n        \"description\": \"\"\n      }\n    },\n    {\n      \"column\": \"SEMIMAJOR_AXIS\",\n      \"properties\": {\n        \"dtype\": \"number\",\n        \"std\": 8856.388961347995,\n        \"min\": 6542.85,\n        \"max\": 182331.558,\n        \"num_unique_values\": 12583,\n        \"samples\": [\n          7099.758,\n          15094.009,\n          7275.172\n        ],\n        \"semantic_type\": \"\",\n        \"description\": \"\"\n      }\n    },\n    {\n      \"column\": \"PERIOD\",\n      \"properties\": {\n        \"dtype\": \"number\",\n        \"std\": 344.06921606481336,\n        \"min\": 87.783,\n        \"max\": 12913.754,\n        \"num_unique_values\": 8935,\n        \"samples\": [\n          101.218,\n          95.916,\n          96.973\n        ],\n        \"semantic_type\": \"\",\n        \"description\": \"\"\n      }\n    },\n    {\n      \"column\": \"APOAPSIS\",\n      \"properties\": {\n        \"dtype\": \"number\",\n        \"std\": 11946.68897107905,\n        \"min\": 183.393,\n        \"max\": 302195.235,\n        \"num_unique_values\": 13284,\n        \"samples\": [\n          547.907,\n          775.262,\n          551.196\n        ],\n        \"semantic_type\": \"\",\n        \"description\": \"\"\n      }\n    },\n    {\n      \"column\": \"PERIAPSIS\",\n      \"properties\": {\n        \"dtype\": \"number\",\n        \"std\": 7581.411826601425,\n        \"min\": 73.279,\n        \"max\": 49711.61,\n        \"num_unique_values\": 13222,\n        \"samples\": [\n          798.209,\n          804.908,\n          460.51\n        ],\n        \"semantic_type\": \"\",\n        \"description\": \"\"\n      }\n    },\n    {\n      \"column\": \"RCS_SIZE\",\n      \"properties\": {\n        \"dtype\": \"category\",\n        \"num_unique_values\": 3,\n        \"samples\": [\n          \"MEDIUM\",\n          \"SMALL\",\n          \"LARGE\"\n        ],\n        \"semantic_type\": \"\",\n        \"description\": \"\"\n      }\n    },\n    {\n      \"column\": \"OBJECT_TYPE\",\n      \"properties\": {\n        \"dtype\": \"number\",\n        \"std\": 0,\n        \"min\": 0,\n        \"max\": 3,\n        \"num_unique_values\": 4,\n        \"samples\": [\n          1,\n          3,\n          0\n        ],\n        \"semantic_type\": \"\",\n        \"description\": \"\"\n      }\n    }\n  ]\n}"
            }
          },
          "metadata": {},
          "execution_count": 40
        }
      ]
    },
    {
      "cell_type": "markdown",
      "source": [
        "Seperating Label from Data"
      ],
      "metadata": {
        "id": "j4SjByYjmgqB"
      }
    },
    {
      "cell_type": "code",
      "source": [
        "y = space_decay['OBJECT_TYPE']\n",
        "X = space_decay.drop(['OBJECT_TYPE'],axis=1)"
      ],
      "metadata": {
        "id": "lDeduM7EmdsZ"
      },
      "execution_count": null,
      "outputs": []
    },
    {
      "cell_type": "code",
      "source": [
        "X.columns"
      ],
      "metadata": {
        "colab": {
          "base_uri": "https://localhost:8080/"
        },
        "id": "YL6EHQ6HmmtG",
        "outputId": "a2cde612-17f9-4e8c-f326-2e67e5fc6a80"
      },
      "execution_count": null,
      "outputs": [
        {
          "output_type": "execute_result",
          "data": {
            "text/plain": [
              "Index(['MEAN_MOTION', 'ECCENTRICITY', 'INCLINATION', 'RA_OF_ASC_NODE',\n",
              "       'ARG_OF_PERICENTER', 'MEAN_ANOMALY', 'SEMIMAJOR_AXIS', 'PERIOD',\n",
              "       'APOAPSIS', 'PERIAPSIS', 'RCS_SIZE'],\n",
              "      dtype='object')"
            ]
          },
          "metadata": {},
          "execution_count": 43
        }
      ]
    },
    {
      "cell_type": "code",
      "source": [
        "y"
      ],
      "metadata": {
        "colab": {
          "base_uri": "https://localhost:8080/"
        },
        "id": "JPAP2fLjmt-C",
        "outputId": "ba5e7150-f148-4736-e489-e89a84b3c733"
      },
      "execution_count": null,
      "outputs": [
        {
          "output_type": "execute_result",
          "data": {
            "text/plain": [
              "OBJECT_ID\n",
              "1992-072J     0\n",
              "1979-028C     0\n",
              "2001-015A     1\n",
              "1999-057MB    0\n",
              "1999-057MC    0\n",
              "             ..\n",
              "2021-095C     0\n",
              "2021-095D     2\n",
              "2021-096A     1\n",
              "2021-097A     1\n",
              "2021-098A     1\n",
              "Name: OBJECT_TYPE, Length: 14174, dtype: int64"
            ]
          },
          "metadata": {},
          "execution_count": 44
        }
      ]
    },
    {
      "cell_type": "code",
      "source": [
        "y.shape"
      ],
      "metadata": {
        "colab": {
          "base_uri": "https://localhost:8080/"
        },
        "id": "g8-NfkmPmuvp",
        "outputId": "ca7240e2-5a2c-4a1a-87ac-9a699be851bd"
      },
      "execution_count": null,
      "outputs": [
        {
          "output_type": "execute_result",
          "data": {
            "text/plain": [
              "(14174,)"
            ]
          },
          "metadata": {},
          "execution_count": 45
        }
      ]
    },
    {
      "cell_type": "markdown",
      "source": [
        "One-Hot-Encoding"
      ],
      "metadata": {
        "id": "0CwsNs0Gm0Vt"
      }
    },
    {
      "cell_type": "code",
      "source": [
        "!pip install keras"
      ],
      "metadata": {
        "colab": {
          "base_uri": "https://localhost:8080/"
        },
        "id": "lJfXS9Ynmxbc",
        "outputId": "11061298-442e-4f0b-ace2-4d6f750fca7f"
      },
      "execution_count": null,
      "outputs": [
        {
          "output_type": "stream",
          "name": "stdout",
          "text": [
            "Requirement already satisfied: keras in /usr/local/lib/python3.10/dist-packages (2.15.0)\n"
          ]
        }
      ]
    },
    {
      "cell_type": "code",
      "source": [
        "from tensorflow.keras.utils import to_categorical"
      ],
      "metadata": {
        "id": "k81DeFwkm2uW"
      },
      "execution_count": null,
      "outputs": []
    },
    {
      "cell_type": "code",
      "source": [
        "from tensorflow.keras.utils import to_categorical\n",
        "num_classes = 4\n",
        "y = to_categorical(y, num_classes)\n",
        "y"
      ],
      "metadata": {
        "colab": {
          "base_uri": "https://localhost:8080/"
        },
        "id": "lAhVRU_qm5W5",
        "outputId": "4ba1b27c-9443-4db7-f44c-c1e6bf0630ae"
      },
      "execution_count": null,
      "outputs": [
        {
          "output_type": "execute_result",
          "data": {
            "text/plain": [
              "array([[1., 0., 0., 0.],\n",
              "       [1., 0., 0., 0.],\n",
              "       [0., 1., 0., 0.],\n",
              "       ...,\n",
              "       [0., 1., 0., 0.],\n",
              "       [0., 1., 0., 0.],\n",
              "       [0., 1., 0., 0.]], dtype=float32)"
            ]
          },
          "metadata": {},
          "execution_count": 48
        }
      ]
    },
    {
      "cell_type": "markdown",
      "source": [
        "Splitting the Data into Training and Testing"
      ],
      "metadata": {
        "id": "nA6D-QLOm_zd"
      }
    },
    {
      "cell_type": "code",
      "source": [
        "from sklearn.model_selection import train_test_split\n",
        "X_train, X_test, y_train, y_test = train_test_split(X, y, test_size = 0.2, random_state = 2)"
      ],
      "metadata": {
        "id": "5dsJjb03m8H9"
      },
      "execution_count": null,
      "outputs": []
    },
    {
      "cell_type": "code",
      "source": [
        "print(\"Shape of the X_train\", X_train.shape)\n",
        "print(\"Shape of the X_test\", X_test.shape)\n",
        "print(\"Shape of the y_train\", y_train.shape)\n",
        "print(\"Shape of the y_test\", y_test.shape)"
      ],
      "metadata": {
        "colab": {
          "base_uri": "https://localhost:8080/"
        },
        "id": "Lpq-7bZAnCo8",
        "outputId": "e096eb31-ff89-4def-9c74-6dd5679987dc"
      },
      "execution_count": null,
      "outputs": [
        {
          "output_type": "stream",
          "name": "stdout",
          "text": [
            "Shape of the X_train (11339, 11)\n",
            "Shape of the X_test (2835, 11)\n",
            "Shape of the y_train (11339, 4)\n",
            "Shape of the y_test (2835, 4)\n"
          ]
        }
      ]
    },
    {
      "cell_type": "markdown",
      "source": [
        "FEATURE SCALLING"
      ],
      "metadata": {
        "id": "_4e6c1nMnJFm"
      }
    },
    {
      "cell_type": "code",
      "source": [
        "from sklearn.preprocessing import LabelEncoder\n",
        "\n",
        "# Assuming 'X_train' and 'X_test' are your training and testing data\n",
        "# Initialize LabelEncoder\n",
        "label_encoder = LabelEncoder()\n",
        "\n",
        "# Iterate over each column and check if it contains non-numeric values\n",
        "for col in X_train.columns:\n",
        "    if X_train[col].dtype == 'object':\n",
        "        # Apply label encoding to categorical columns in both training and testing data\n",
        "        X_train[col] = label_encoder.fit_transform(X_train[col])\n",
        "        X_test[col] = label_encoder.transform(X_test[col])\n",
        "\n",
        "# Now, you can apply StandardScaler\n",
        "sc = StandardScaler()\n",
        "X_train = sc.fit_transform(X_train)\n",
        "X_test = sc.transform(X_test)\n"
      ],
      "metadata": {
        "id": "fkauXSrZnLx9"
      },
      "execution_count": null,
      "outputs": []
    },
    {
      "cell_type": "markdown",
      "source": [
        "Building the ANN Model"
      ],
      "metadata": {
        "id": "IoqHaluGoGBm"
      }
    },
    {
      "cell_type": "code",
      "source": [
        "# sequential model to initialise our ann and dense module to build the layers\n",
        "from keras.models import Sequential\n",
        "from keras.layers import Dense"
      ],
      "metadata": {
        "id": "L6huyVzXoFy-"
      },
      "execution_count": null,
      "outputs": []
    },
    {
      "cell_type": "code",
      "source": [
        "classifier = Sequential()\n",
        "# Adding the input layer and the first hidden layer\n",
        "classifier.add(Dense(units = 8, kernel_initializer = 'uniform', activation = 'relu', input_dim = 11))\n",
        "\n",
        "# Adding the second hidden layer\n",
        "classifier.add(Dense(units = 16, kernel_initializer = 'uniform', activation = 'relu'))\n",
        "\n",
        "# Adding the third hidden layer\n",
        "classifier.add(Dense(units = 32, kernel_initializer = 'uniform', activation = 'relu'))\n",
        "\n",
        "# Adding the output layer\n",
        "classifier.add(Dense(units = 4, kernel_initializer = 'uniform', activation = 'softmax'))"
      ],
      "metadata": {
        "id": "qsKyCjj-n6rU"
      },
      "execution_count": null,
      "outputs": []
    },
    {
      "cell_type": "markdown",
      "source": [
        "Compiling and Fitting the Model"
      ],
      "metadata": {
        "id": "XbuTJRdboMw1"
      }
    },
    {
      "cell_type": "code",
      "source": [
        "y.shape"
      ],
      "metadata": {
        "colab": {
          "base_uri": "https://localhost:8080/"
        },
        "id": "66mLf6cJqRhn",
        "outputId": "207b6900-45d8-4ac1-e53a-b865dc2fc7aa"
      },
      "execution_count": null,
      "outputs": [
        {
          "output_type": "execute_result",
          "data": {
            "text/plain": [
              "(14174, 4)"
            ]
          },
          "metadata": {},
          "execution_count": 69
        }
      ]
    },
    {
      "cell_type": "code",
      "source": [
        "X.shape"
      ],
      "metadata": {
        "colab": {
          "base_uri": "https://localhost:8080/"
        },
        "id": "CraXlVGhqTxe",
        "outputId": "1603044b-749d-4c58-8620-7e699ef9a0e7"
      },
      "execution_count": null,
      "outputs": [
        {
          "output_type": "execute_result",
          "data": {
            "text/plain": [
              "(14174, 11)"
            ]
          },
          "metadata": {},
          "execution_count": 71
        }
      ]
    },
    {
      "cell_type": "code",
      "source": [
        "y_train.shape"
      ],
      "metadata": {
        "colab": {
          "base_uri": "https://localhost:8080/"
        },
        "id": "LwIVanj3qYh7",
        "outputId": "15ce8eb9-a2d2-4582-c1d7-018c21faaf99"
      },
      "execution_count": null,
      "outputs": [
        {
          "output_type": "execute_result",
          "data": {
            "text/plain": [
              "(11339, 4)"
            ]
          },
          "metadata": {},
          "execution_count": 72
        }
      ]
    },
    {
      "cell_type": "code",
      "source": [
        "y_test.shape"
      ],
      "metadata": {
        "colab": {
          "base_uri": "https://localhost:8080/"
        },
        "id": "6AHWEFfFqbSr",
        "outputId": "98003a69-118a-496e-b999-4899043df321"
      },
      "execution_count": null,
      "outputs": [
        {
          "output_type": "execute_result",
          "data": {
            "text/plain": [
              "(2835, 4)"
            ]
          },
          "metadata": {},
          "execution_count": 73
        }
      ]
    },
    {
      "cell_type": "code",
      "source": [
        "X_train.shape"
      ],
      "metadata": {
        "colab": {
          "base_uri": "https://localhost:8080/"
        },
        "id": "TrXwce1yqeOt",
        "outputId": "495c8979-b1b1-444a-f1ff-87950e6e72f7"
      },
      "execution_count": null,
      "outputs": [
        {
          "output_type": "execute_result",
          "data": {
            "text/plain": [
              "(11339, 11)"
            ]
          },
          "metadata": {},
          "execution_count": 75
        }
      ]
    },
    {
      "cell_type": "code",
      "source": [
        "X_test.shape"
      ],
      "metadata": {
        "colab": {
          "base_uri": "https://localhost:8080/"
        },
        "id": "0ToHHaeUqjB5",
        "outputId": "ad2dd75d-9a91-40ca-afb4-db1cedd5c462"
      },
      "execution_count": null,
      "outputs": [
        {
          "output_type": "execute_result",
          "data": {
            "text/plain": [
              "(2835, 11)"
            ]
          },
          "metadata": {},
          "execution_count": 76
        }
      ]
    },
    {
      "cell_type": "code",
      "source": [
        "classifier.compile(optimizer = 'adam', loss = 'categorical_crossentropy', metrics = ['accuracy'])\n",
        "\n",
        "# Fitting the ANN to the Training set\n",
        "classifier.fit(X_train, y_train, batch_size = 16, epochs = 30, verbose = 1)"
      ],
      "metadata": {
        "id": "dK7IzeGDoKgK"
      },
      "execution_count": null,
      "outputs": []
    },
    {
      "cell_type": "markdown",
      "source": [
        "Testing the Model\n"
      ],
      "metadata": {
        "id": "TVvaizWMrEEW"
      }
    },
    {
      "cell_type": "code",
      "source": [
        "score, acc = classifier.evaluate(X_train, y_train,\n",
        "                            batch_size=10)\n",
        "print('Train score:', score)\n",
        "print('Train accuracy:', acc)\n",
        "\n",
        "print('*'*20)\n",
        "score, acc = classifier.evaluate(X_test, y_test,\n",
        "                            batch_size=10)\n",
        "print('Test score:', score)\n",
        "print('Test accuracy:', acc)"
      ],
      "metadata": {
        "colab": {
          "base_uri": "https://localhost:8080/"
        },
        "id": "YyExJRoAon1S",
        "outputId": "588f55b3-87f0-41ef-900f-43ba8819caef"
      },
      "execution_count": null,
      "outputs": [
        {
          "output_type": "stream",
          "name": "stdout",
          "text": [
            "1134/1134 [==============================] - 4s 3ms/step - loss: 0.2697 - accuracy: 0.9093\n",
            "Train score: 0.26971715688705444\n",
            "Train accuracy: 0.909339427947998\n",
            "********************\n",
            "284/284 [==============================] - 1s 2ms/step - loss: 0.2848 - accuracy: 0.9062\n",
            "Test score: 0.28479355573654175\n",
            "Test accuracy: 0.9061728119850159\n"
          ]
        }
      ]
    },
    {
      "cell_type": "code",
      "source": [
        "from sklearn.metrics import accuracy_score\n",
        "accuracy = accuracy_score(y_true, y_pred)\n",
        "\n",
        "print('Accuracy:', accuracy)\n"
      ],
      "metadata": {
        "colab": {
          "base_uri": "https://localhost:8080/"
        },
        "id": "vQvYvdLDy4q7",
        "outputId": "01501c24-9a0d-41a2-ad08-ba27e70cec21"
      },
      "execution_count": null,
      "outputs": [
        {
          "output_type": "stream",
          "name": "stdout",
          "text": [
            "Accuracy: 0.9061728395061729\n"
          ]
        }
      ]
    },
    {
      "cell_type": "markdown",
      "source": [
        "Confusion Matrix"
      ],
      "metadata": {
        "id": "haTFIxjArWns"
      }
    },
    {
      "cell_type": "code",
      "source": [
        "# Predicting the Test set results\n",
        "pred = classifier.predict(X_test)\n",
        "print(\"Y_pred:\", pred)\n",
        "print(\"*****************\")\n",
        "y_pred = np.argmax(pred, axis = 1)\n",
        "print(\"Y_pred:\", y_pred)\n",
        "print(\"*****************\")\n",
        "print(\"Y_test:\", y_test)\n",
        "y_true = np.argmax(y_test, axis = 1)\n",
        "print(\"*****************\")\n",
        "print(\"Y_test:\", y_true)"
      ],
      "metadata": {
        "colab": {
          "base_uri": "https://localhost:8080/"
        },
        "id": "JxQEBMZ0rPsA",
        "outputId": "2f8daa97-4725-4b15-da25-528004b9f032"
      },
      "execution_count": null,
      "outputs": [
        {
          "output_type": "stream",
          "name": "stdout",
          "text": [
            "89/89 [==============================] - 0s 3ms/step\n",
            "Y_pred: [[9.9853522e-01 1.3572173e-03 2.8507959e-05 7.9043981e-05]\n",
            " [9.9605083e-01 3.5214010e-03 3.4989454e-05 3.9261312e-04]\n",
            " [2.9320829e-02 8.7539792e-01 1.5229132e-03 9.3758240e-02]\n",
            " ...\n",
            " [5.4493595e-02 8.7213928e-01 2.4693108e-03 7.0897728e-02]\n",
            " [9.9647278e-01 3.1680446e-03 2.9042516e-05 3.3012443e-04]\n",
            " [9.9616134e-01 3.5552029e-03 3.4721077e-05 2.4872809e-04]]\n",
            "*****************\n",
            "Y_pred: [0 0 1 ... 1 0 0]\n",
            "*****************\n",
            "Y_test: [[1. 0. 0. 0.]\n",
            " [1. 0. 0. 0.]\n",
            " [0. 1. 0. 0.]\n",
            " ...\n",
            " [0. 1. 0. 0.]\n",
            " [1. 0. 0. 0.]\n",
            " [1. 0. 0. 0.]]\n",
            "*****************\n",
            "Y_test: [0 0 1 ... 1 0 0]\n"
          ]
        }
      ]
    },
    {
      "cell_type": "code",
      "source": [
        "# Making the Confusion Matrix\n",
        "from sklearn.metrics import confusion_matrix\n",
        "cm = confusion_matrix(y_true, y_pred)\n",
        "target_names = ['DEBRIS', 'PAYLOAD', 'ROCKET BODY', 'TBA']"
      ],
      "metadata": {
        "id": "ZgwUH2xorZIz"
      },
      "execution_count": null,
      "outputs": []
    },
    {
      "cell_type": "code",
      "source": [
        "import matplotlib.pyplot as plt\n",
        "import seaborn as sns"
      ],
      "metadata": {
        "id": "JHRL3hZhrkFC"
      },
      "execution_count": null,
      "outputs": []
    },
    {
      "cell_type": "code",
      "source": [
        "p = sns.heatmap(pd.DataFrame(cm), annot=True,xticklabels=target_names, yticklabels=target_names, cmap=\"YlGnBu\" ,fmt='g')\n",
        "plt.title('Confusion matrix', y=1.1)\n",
        "plt.ylabel('Actual label')\n",
        "plt.xlabel('Predicted label')"
      ],
      "metadata": {
        "colab": {
          "base_uri": "https://localhost:8080/",
          "height": 526
        },
        "id": "4wjmWAPNrmUX",
        "outputId": "dee5984e-fde8-4e65-e1b3-5762585a2524"
      },
      "execution_count": null,
      "outputs": [
        {
          "output_type": "execute_result",
          "data": {
            "text/plain": [
              "Text(0.5, 23.52222222222222, 'Predicted label')"
            ]
          },
          "metadata": {},
          "execution_count": 84
        },
        {
          "output_type": "display_data",
          "data": {
            "text/plain": [
              "<Figure size 640x480 with 2 Axes>"
            ],
            "image/png": "[encoded data removed]"
          },
          "metadata": {}
        }
      ]
    },
    {
      "cell_type": "code",
      "source": [
        "#import classification_report\n",
        "from sklearn.metrics import classification_report\n",
        "print(classification_report(y_true,y_pred, target_names = target_names))"
      ],
      "metadata": {
        "colab": {
          "base_uri": "https://localhost:8080/"
        },
        "id": "JDanIFtZrqnl",
        "outputId": "a5b6ff0f-60f7-4be0-c79b-7ae9f3cd051c"
      },
      "execution_count": null,
      "outputs": [
        {
          "output_type": "stream",
          "name": "stdout",
          "text": [
            "              precision    recall  f1-score   support\n",
            "\n",
            "      DEBRIS       0.97      0.93      0.95      1654\n",
            "     PAYLOAD       0.84      0.96      0.90      1011\n",
            " ROCKET BODY       0.66      0.42      0.51       137\n",
            "         TBA       0.00      0.00      0.00        33\n",
            "\n",
            "    accuracy                           0.91      2835\n",
            "   macro avg       0.62      0.58      0.59      2835\n",
            "weighted avg       0.90      0.91      0.90      2835\n",
            "\n"
          ]
        },
        {
          "output_type": "stream",
          "name": "stderr",
          "text": [
            "/usr/local/lib/python3.10/dist-packages/sklearn/metrics/_classification.py:1344: UndefinedMetricWarning: Precision and F-score are ill-defined and being set to 0.0 in labels with no predicted samples. Use `zero_division` parameter to control this behavior.\n",
            "  _warn_prf(average, modifier, msg_start, len(result))\n",
            "/usr/local/lib/python3.10/dist-packages/sklearn/metrics/_classification.py:1344: UndefinedMetricWarning: Precision and F-score are ill-defined and being set to 0.0 in labels with no predicted samples. Use `zero_division` parameter to control this behavior.\n",
            "  _warn_prf(average, modifier, msg_start, len(result))\n",
            "/usr/local/lib/python3.10/dist-packages/sklearn/metrics/_classification.py:1344: UndefinedMetricWarning: Precision and F-score are ill-defined and being set to 0.0 in labels with no predicted samples. Use `zero_division` parameter to control this behavior.\n",
            "  _warn_prf(average, modifier, msg_start, len(result))\n"
          ]
        }
      ]
    },
    {
      "cell_type": "markdown",
      "source": [
        "ROC curve"
      ],
      "metadata": {
        "id": "MUbiDLYXryTQ"
      }
    },
    {
      "cell_type": "code",
      "source": [
        "from sklearn.metrics import roc_curve, auc\n",
        "from itertools import cycle\n",
        "fpr = dict()\n",
        "tpr = dict()\n",
        "roc_auc = dict()\n",
        "for i in range(4):\n",
        "    fpr[i], tpr[i], _ = roc_curve(y_test[:, i], pred[:, i])\n",
        "    roc_auc[i] = auc(fpr[i], tpr[i])\n",
        "\n",
        "# Plot of a ROC curve for a specific class\n",
        "for i in range(4):\n",
        "    plt.figure()\n",
        "    plt.plot(fpr[i], tpr[i], label='ROC curve (area = %0.2f)' % roc_auc[i])\n",
        "    plt.plot([0, 1], [0, 1], 'k--')\n",
        "    plt.xlim([0.0, 1.0])\n",
        "    plt.ylim([0.0, 1.05])\n",
        "    plt.xlabel('False Positive Rate')\n",
        "    plt.ylabel('True Positive Rate')\n",
        "    plt.title('Receiver operating characteristic example')\n",
        "    plt.legend(loc=\"lower right\")\n",
        "    plt.show()"
      ],
      "metadata": {
        "colab": {
          "base_uri": "https://localhost:8080/",
          "height": 1837
        },
        "id": "HU2GTEFaruUR",
        "outputId": "1980969d-5af3-4c83-d789-b7db5e99a5e4"
      },
      "execution_count": null,
      "outputs": [
        {
          "output_type": "display_data",
          "data": {
            "text/plain": [
              "<Figure size 640x480 with 1 Axes>"
            ],
            "image/png": "[encoded data removed]"
          },
          "metadata": {}
        },
        {
          "output_type": "display_data",
          "data": {
            "text/plain": [
              "<Figure size 640x480 with 1 Axes>"
            ],
            "image/png": "[encoded data removed]"
          },
          "metadata": {}
        },
        {
          "output_type": "display_data",
          "data": {
            "text/plain": [
              "<Figure size 640x480 with 1 Axes>"
            ],
            "image/png": "[encoded data removed]"
          },
          "metadata": {}
        },
        {
          "output_type": "display_data",
          "data": {
            "text/plain": [
              "<Figure size 640x480 with 1 Axes>"
            ],
            "image/png": "[encoded data removed]"
          },
          "metadata": {}
        }
      ]
    },
    {
      "cell_type": "code",
      "source": [
        "fpr = dict()\n",
        "tpr = dict()\n",
        "roc_auc = dict()\n",
        "lw=2\n",
        "for i in range(4):\n",
        "    fpr[i], tpr[i], _ = roc_curve(y_test[:, i], pred[:, i])\n",
        "    roc_auc[i] = auc(fpr[i], tpr[i])\n",
        "colors =cycle(['blue', 'green', 'red','darkorange','olive','purple'])\n",
        "for i, color in zip(range(4), colors):\n",
        "    plt.plot(fpr[i], tpr[i], color=color, lw=2,\n",
        "             label='AUC = {1:0.4f}'\n",
        "             ''.format(i, roc_auc[i]))\n",
        "plt.plot([0, 1], [0, 1], 'k--', lw=lw)\n",
        "plt.xlim([-0.05, 1.0])\n",
        "plt.ylim([0.0, 1.05])\n",
        "plt.xlabel('False Positive Rate',fontsize=15)\n",
        "plt.ylabel('True Positive Rate',fontsize=15)\n",
        "# plt.title('Receiver operating characteristic for multi-class data')\n",
        "plt.legend(loc=\"lower right\")\n",
        "plt.show()"
      ],
      "metadata": {
        "colab": {
          "base_uri": "https://localhost:8080/",
          "height": 455
        },
        "id": "eSm0XxlIr1Fa",
        "outputId": "3be61d5f-0852-4477-cd35-aba918d7a44a"
      },
      "execution_count": null,
      "outputs": [
        {
          "output_type": "display_data",
          "data": {
            "text/plain": [
              "<Figure size 640x480 with 1 Axes>"
            ],
            "image/png": "[encoded data removed]"
          },
          "metadata": {}
        }
      ]
    }
  ]
}